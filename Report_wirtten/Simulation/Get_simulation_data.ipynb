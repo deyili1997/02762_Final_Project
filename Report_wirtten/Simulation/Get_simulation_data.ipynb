{
 "cells": [
  {
   "cell_type": "code",
   "execution_count": 41,
   "id": "947eeaa6",
   "metadata": {},
   "outputs": [],
   "source": [
    "import numpy as np\n",
    "import pandas as pd\n",
    "from collections import Counter\n",
    "import itertools\n",
    "import matplotlib.pyplot as plt"
   ]
  },
  {
   "cell_type": "code",
   "execution_count": 42,
   "id": "d1061dc6",
   "metadata": {},
   "outputs": [],
   "source": [
    "np.set_printoptions(suppress=True)"
   ]
  },
  {
   "cell_type": "code",
   "execution_count": 43,
   "id": "5486a20d",
   "metadata": {},
   "outputs": [],
   "source": [
    "Griseofulvin = [128, 64, 32, 16, 8, 4]\n",
    "Camptothecin = [32, 16, 8, 4, 2, 1]\n",
    "Chloramphenicol = [3200, 1600, 800, 400, 200, 100]\n",
    "Metformin = [512, 256, 128, 64, 32, 16]"
   ]
  },
  {
   "cell_type": "code",
   "execution_count": 44,
   "id": "bf721362",
   "metadata": {},
   "outputs": [],
   "source": [
    "all_drugs = [Griseofulvin, Camptothecin, Chloramphenicol, Metformin]"
   ]
  },
  {
   "cell_type": "code",
   "execution_count": 45,
   "id": "36bd90be",
   "metadata": {},
   "outputs": [],
   "source": [
    "all_combinations = list(itertools.product(*all_drugs))"
   ]
  },
  {
   "cell_type": "code",
   "execution_count": 46,
   "id": "bacfbc80",
   "metadata": {},
   "outputs": [],
   "source": [
    "all_combinations = np.array(all_combinations)"
   ]
  },
  {
   "cell_type": "code",
   "execution_count": 47,
   "id": "a39e7896",
   "metadata": {},
   "outputs": [
    {
     "data": {
      "text/plain": [
       "array([[ 128,   32, 3200,  512],\n",
       "       [ 128,   32, 3200,  256],\n",
       "       [ 128,   32, 3200,  128],\n",
       "       [ 128,   32, 3200,   64],\n",
       "       [ 128,   32, 3200,   32]])"
      ]
     },
     "execution_count": 47,
     "metadata": {},
     "output_type": "execute_result"
    }
   ],
   "source": [
    "all_combinations[0:5]"
   ]
  },
  {
   "cell_type": "code",
   "execution_count": 48,
   "id": "e6e5b006",
   "metadata": {},
   "outputs": [],
   "source": [
    "potency_all = []\n",
    "for c in all_combinations:\n",
    "    drug_1 = c[0]\n",
    "    drug_2 = c[1]\n",
    "    drug_3 = c[2]\n",
    "    drug_4 = c[3]\n",
    "    noise_max = (drug_1 + drug_2 + drug_3 + drug_4) + 10\n",
    "    potency = np.log(drug_1/4 + drug_2 + drug_3/100 + drug_4/100 + drug_1*drug_4 + drug_2*drug_4+drug_3*drug_4+1) + np.random.randint(noise_max)\n",
    "    potency_all.append(potency)"
   ]
  },
  {
   "cell_type": "code",
   "execution_count": 49,
   "id": "d0ae29b4",
   "metadata": {},
   "outputs": [
    {
     "data": {
      "text/plain": [
       "1296"
      ]
     },
     "execution_count": 49,
     "metadata": {},
     "output_type": "execute_result"
    }
   ],
   "source": [
    "len(potency_all)"
   ]
  },
  {
   "cell_type": "code",
   "execution_count": 50,
   "id": "e066eb56",
   "metadata": {},
   "outputs": [],
   "source": [
    "potency_all = np.array(potency_all)"
   ]
  },
  {
   "cell_type": "code",
   "execution_count": 51,
   "id": "ad118ac3",
   "metadata": {},
   "outputs": [
    {
     "data": {
      "image/png": "[encoded data removed]",
      "text/plain": [
       "<Figure size 432x288 with 1 Axes>"
      ]
     },
     "metadata": {
      "needs_background": "light"
     },
     "output_type": "display_data"
    }
   ],
   "source": [
    "plt.hist(potency_all)\n",
    "plt.show()"
   ]
  },
  {
   "cell_type": "code",
   "execution_count": 52,
   "id": "e41e0ab0",
   "metadata": {},
   "outputs": [],
   "source": [
    "potency_all[potency_all<2000] = (potency_all[potency_all<2000]-min(potency_all[potency_all<2000]))/(max(potency_all[potency_all<2000])-min(potency_all[potency_all<2000]))\n",
    "potency_all[potency_all>=2000] = 1"
   ]
  },
  {
   "cell_type": "code",
   "execution_count": 53,
   "id": "89693b9a",
   "metadata": {},
   "outputs": [
    {
     "data": {
      "text/plain": [
       "array([1.        , 0.17473273, 0.45143764, 0.67635223, 1.        ,\n",
       "       0.08886585, 1.        , 0.3700043 , 0.09059121, 0.6699934 ])"
      ]
     },
     "execution_count": 53,
     "metadata": {},
     "output_type": "execute_result"
    }
   ],
   "source": [
    "potency_all[0:10]"
   ]
  },
  {
   "cell_type": "code",
   "execution_count": 54,
   "id": "204a401f",
   "metadata": {},
   "outputs": [],
   "source": [
    "viability_all = 1 - np.round(potency_all.reshape(-1, 1),3)"
   ]
  },
  {
   "cell_type": "code",
   "execution_count": 55,
   "id": "57a71e27",
   "metadata": {},
   "outputs": [
    {
     "data": {
      "text/plain": [
       "array([[0.   ],\n",
       "       [0.825],\n",
       "       [0.549],\n",
       "       [0.324],\n",
       "       [0.   ],\n",
       "       [0.911],\n",
       "       [0.   ],\n",
       "       [0.63 ],\n",
       "       [0.909],\n",
       "       [0.33 ]])"
      ]
     },
     "execution_count": 55,
     "metadata": {},
     "output_type": "execute_result"
    }
   ],
   "source": [
    "viability_all[0:10]"
   ]
  },
  {
   "cell_type": "code",
   "execution_count": 56,
   "id": "b50ca8ed",
   "metadata": {},
   "outputs": [
    {
     "data": {
      "image/png": "[encoded data removed]",
      "text/plain": [
       "<Figure size 1200x800 with 1 Axes>"
      ]
     },
     "metadata": {
      "needs_background": "light"
     },
     "output_type": "display_data"
    }
   ],
   "source": [
    "plt.figure(figsize=(12, 8), dpi=100)\n",
    "plt.hist(viability_all)\n",
    "plt.title(\"Cell viability distribution for self-generated dataset\")\n",
    "plt.xlabel(\"Cell viability\")\n",
    "plt.ylabel(\"Frequency\")\n",
    "plt.show()"
   ]
  },
  {
   "cell_type": "code",
   "execution_count": 57,
   "id": "ce9585e3",
   "metadata": {},
   "outputs": [],
   "source": [
    "viability_all = np.round(viability_all, 3)"
   ]
  },
  {
   "cell_type": "code",
   "execution_count": 58,
   "id": "98c6727b",
   "metadata": {},
   "outputs": [],
   "source": [
    "output = np.concatenate((all_combinations, viability_all), axis = 1)"
   ]
  },
  {
   "cell_type": "code",
   "execution_count": 59,
   "id": "ffb5a459",
   "metadata": {},
   "outputs": [
    {
     "data": {
      "text/plain": [
       "(1296, 5)"
      ]
     },
     "execution_count": 59,
     "metadata": {},
     "output_type": "execute_result"
    }
   ],
   "source": [
    "output.shape"
   ]
  },
  {
   "cell_type": "code",
   "execution_count": 60,
   "id": "d93f0601",
   "metadata": {},
   "outputs": [],
   "source": [
    "DF = pd.DataFrame(output, columns = ['(+)-Griseofulvin', '(S)-(+)-Camptothecin', 'Chloramphenicol', 'Metformin', 'Cell viability'])"
   ]
  },
  {
   "cell_type": "code",
   "execution_count": 61,
   "id": "d0cec9f2",
   "metadata": {},
   "outputs": [
    {
     "data": {
      "text/html": [
       "<div>\n",
       "<style scoped>\n",
       "    .dataframe tbody tr th:only-of-type {\n",
       "        vertical-align: middle;\n",
       "    }\n",
       "\n",
       "    .dataframe tbody tr th {\n",
       "        vertical-align: top;\n",
       "    }\n",
       "\n",
       "    .dataframe thead th {\n",
       "        text-align: right;\n",
       "    }\n",
       "</style>\n",
       "<table border=\"1\" class=\"dataframe\">\n",
       "  <thead>\n",
       "    <tr style=\"text-align: right;\">\n",
       "      <th></th>\n",
       "      <th>(+)-Griseofulvin</th>\n",
       "      <th>(S)-(+)-Camptothecin</th>\n",
       "      <th>Chloramphenicol</th>\n",
       "      <th>Metformin</th>\n",
       "      <th>Cell viability</th>\n",
       "    </tr>\n",
       "  </thead>\n",
       "  <tbody>\n",
       "    <tr>\n",
       "      <th>0</th>\n",
       "      <td>128.0</td>\n",
       "      <td>32.0</td>\n",
       "      <td>3200.0</td>\n",
       "      <td>512.0</td>\n",
       "      <td>0.000</td>\n",
       "    </tr>\n",
       "    <tr>\n",
       "      <th>1</th>\n",
       "      <td>128.0</td>\n",
       "      <td>32.0</td>\n",
       "      <td>3200.0</td>\n",
       "      <td>256.0</td>\n",
       "      <td>0.825</td>\n",
       "    </tr>\n",
       "    <tr>\n",
       "      <th>2</th>\n",
       "      <td>128.0</td>\n",
       "      <td>32.0</td>\n",
       "      <td>3200.0</td>\n",
       "      <td>128.0</td>\n",
       "      <td>0.549</td>\n",
       "    </tr>\n",
       "    <tr>\n",
       "      <th>3</th>\n",
       "      <td>128.0</td>\n",
       "      <td>32.0</td>\n",
       "      <td>3200.0</td>\n",
       "      <td>64.0</td>\n",
       "      <td>0.324</td>\n",
       "    </tr>\n",
       "    <tr>\n",
       "      <th>4</th>\n",
       "      <td>128.0</td>\n",
       "      <td>32.0</td>\n",
       "      <td>3200.0</td>\n",
       "      <td>32.0</td>\n",
       "      <td>0.000</td>\n",
       "    </tr>\n",
       "  </tbody>\n",
       "</table>\n",
       "</div>"
      ],
      "text/plain": [
       "   (+)-Griseofulvin  (S)-(+)-Camptothecin  Chloramphenicol  Metformin  \\\n",
       "0             128.0                  32.0           3200.0      512.0   \n",
       "1             128.0                  32.0           3200.0      256.0   \n",
       "2             128.0                  32.0           3200.0      128.0   \n",
       "3             128.0                  32.0           3200.0       64.0   \n",
       "4             128.0                  32.0           3200.0       32.0   \n",
       "\n",
       "   Cell viability  \n",
       "0           0.000  \n",
       "1           0.825  \n",
       "2           0.549  \n",
       "3           0.324  \n",
       "4           0.000  "
      ]
     },
     "execution_count": 61,
     "metadata": {},
     "output_type": "execute_result"
    }
   ],
   "source": [
    "DF.head()"
   ]
  },
  {
   "cell_type": "code",
   "execution_count": 62,
   "id": "3cd8c6bd",
   "metadata": {},
   "outputs": [],
   "source": [
    "DF.to_csv(\"Our_drug_simulation_dataset.csv\")"
   ]
  },
  {
   "cell_type": "code",
   "execution_count": 63,
   "id": "5abbb4a8",
   "metadata": {},
   "outputs": [],
   "source": [
    "read_check = pd.read_csv(\"Our_drug_simulation_dataset.csv\", header = 0)"
   ]
  },
  {
   "cell_type": "code",
   "execution_count": 64,
   "id": "02695d42",
   "metadata": {},
   "outputs": [
    {
     "data": {
      "text/html": [
       "<div>\n",
       "<style scoped>\n",
       "    .dataframe tbody tr th:only-of-type {\n",
       "        vertical-align: middle;\n",
       "    }\n",
       "\n",
       "    .dataframe tbody tr th {\n",
       "        vertical-align: top;\n",
       "    }\n",
       "\n",
       "    .dataframe thead th {\n",
       "        text-align: right;\n",
       "    }\n",
       "</style>\n",
       "<table border=\"1\" class=\"dataframe\">\n",
       "  <thead>\n",
       "    <tr style=\"text-align: right;\">\n",
       "      <th></th>\n",
       "      <th>Unnamed: 0</th>\n",
       "      <th>(+)-Griseofulvin</th>\n",
       "      <th>(S)-(+)-Camptothecin</th>\n",
       "      <th>Chloramphenicol</th>\n",
       "      <th>Metformin</th>\n",
       "      <th>Cell viability</th>\n",
       "    </tr>\n",
       "  </thead>\n",
       "  <tbody>\n",
       "    <tr>\n",
       "      <th>0</th>\n",
       "      <td>0</td>\n",
       "      <td>128.0</td>\n",
       "      <td>32.0</td>\n",
       "      <td>3200.0</td>\n",
       "      <td>512.0</td>\n",
       "      <td>0.000</td>\n",
       "    </tr>\n",
       "    <tr>\n",
       "      <th>1</th>\n",
       "      <td>1</td>\n",
       "      <td>128.0</td>\n",
       "      <td>32.0</td>\n",
       "      <td>3200.0</td>\n",
       "      <td>256.0</td>\n",
       "      <td>0.825</td>\n",
       "    </tr>\n",
       "    <tr>\n",
       "      <th>2</th>\n",
       "      <td>2</td>\n",
       "      <td>128.0</td>\n",
       "      <td>32.0</td>\n",
       "      <td>3200.0</td>\n",
       "      <td>128.0</td>\n",
       "      <td>0.549</td>\n",
       "    </tr>\n",
       "    <tr>\n",
       "      <th>3</th>\n",
       "      <td>3</td>\n",
       "      <td>128.0</td>\n",
       "      <td>32.0</td>\n",
       "      <td>3200.0</td>\n",
       "      <td>64.0</td>\n",
       "      <td>0.324</td>\n",
       "    </tr>\n",
       "    <tr>\n",
       "      <th>4</th>\n",
       "      <td>4</td>\n",
       "      <td>128.0</td>\n",
       "      <td>32.0</td>\n",
       "      <td>3200.0</td>\n",
       "      <td>32.0</td>\n",
       "      <td>0.000</td>\n",
       "    </tr>\n",
       "  </tbody>\n",
       "</table>\n",
       "</div>"
      ],
      "text/plain": [
       "   Unnamed: 0  (+)-Griseofulvin  (S)-(+)-Camptothecin  Chloramphenicol  \\\n",
       "0           0             128.0                  32.0           3200.0   \n",
       "1           1             128.0                  32.0           3200.0   \n",
       "2           2             128.0                  32.0           3200.0   \n",
       "3           3             128.0                  32.0           3200.0   \n",
       "4           4             128.0                  32.0           3200.0   \n",
       "\n",
       "   Metformin  Cell viability  \n",
       "0      512.0           0.000  \n",
       "1      256.0           0.825  \n",
       "2      128.0           0.549  \n",
       "3       64.0           0.324  \n",
       "4       32.0           0.000  "
      ]
     },
     "execution_count": 64,
     "metadata": {},
     "output_type": "execute_result"
    }
   ],
   "source": [
    "read_check.head()"
   ]
  },
  {
   "cell_type": "code",
   "execution_count": 65,
   "id": "8e69b54e",
   "metadata": {},
   "outputs": [
    {
     "data": {
      "image/png": "[encoded data removed]",
      "text/plain": [
       "<Figure size 432x288 with 1 Axes>"
      ]
     },
     "metadata": {
      "needs_background": "light"
     },
     "output_type": "display_data"
    }
   ],
   "source": [
    "plt.hist(read_check.loc[:, \"Cell viability\"])\n",
    "plt.show()"
   ]
  },
  {
   "cell_type": "code",
   "execution_count": 66,
   "id": "0fc349cd",
   "metadata": {},
   "outputs": [
    {
     "data": {
      "text/plain": [
       "(1296, 6)"
      ]
     },
     "execution_count": 66,
     "metadata": {},
     "output_type": "execute_result"
    }
   ],
   "source": [
    "read_check.shape"
   ]
  }
 ],
 "metadata": {
  "kernelspec": {
   "display_name": "Python 3 (ipykernel)",
   "language": "python",
   "name": "python3"
  },
  "language_info": {
   "codemirror_mode": {
    "name": "ipython",
    "version": 3
   },
   "file_extension": ".py",
   "mimetype": "text/x-python",
   "name": "python",
   "nbconvert_exporter": "python",
   "pygments_lexer": "ipython3",
   "version": "3.9.7"
  }
 },
 "nbformat": 4,
 "nbformat_minor": 5
}
