{
 "cells": [
  {
   "cell_type": "code",
   "execution_count": 1,
   "id": "e16da5fb",
   "metadata": {},
   "outputs": [],
   "source": [
    "import pandas as pd\n",
    "from sklearn.svm import SVR\n",
    "from sklearn.pipeline import make_pipeline\n",
    "from sklearn.preprocessing import StandardScaler\n",
    "import numpy as np\n",
    "from sklearn.metrics import mean_squared_error\n",
    "import matplotlib.pyplot as plt\n",
    "from sklearn.ensemble import RandomForestRegressor"
   ]
  },
  {
   "cell_type": "code",
   "execution_count": 2,
   "id": "09058cef",
   "metadata": {},
   "outputs": [],
   "source": [
    "First = pd.read_csv('initialization_1st_results.txt', header = 0)"
   ]
  },
  {
   "cell_type": "code",
   "execution_count": 3,
   "id": "c067c6a5",
   "metadata": {},
   "outputs": [
    {
     "data": {
      "text/html": [
       "<div>\n",
       "<style scoped>\n",
       "    .dataframe tbody tr th:only-of-type {\n",
       "        vertical-align: middle;\n",
       "    }\n",
       "\n",
       "    .dataframe tbody tr th {\n",
       "        vertical-align: top;\n",
       "    }\n",
       "\n",
       "    .dataframe thead th {\n",
       "        text-align: right;\n",
       "    }\n",
       "</style>\n",
       "<table border=\"1\" class=\"dataframe\">\n",
       "  <thead>\n",
       "    <tr style=\"text-align: right;\">\n",
       "      <th></th>\n",
       "      <th>(+)-Griseofulvin</th>\n",
       "      <th>(S)-(+)-Camptothecin</th>\n",
       "      <th>Chloramphenicol</th>\n",
       "      <th>Metformin</th>\n",
       "      <th>Cell viability</th>\n",
       "    </tr>\n",
       "  </thead>\n",
       "  <tbody>\n",
       "    <tr>\n",
       "      <th>0</th>\n",
       "      <td>1.000</td>\n",
       "      <td>2.0000</td>\n",
       "      <td>0.000</td>\n",
       "      <td>0.5</td>\n",
       "      <td>0.707</td>\n",
       "    </tr>\n",
       "    <tr>\n",
       "      <th>1</th>\n",
       "      <td>64.000</td>\n",
       "      <td>2.0000</td>\n",
       "      <td>3.125</td>\n",
       "      <td>128.0</td>\n",
       "      <td>0.636</td>\n",
       "    </tr>\n",
       "    <tr>\n",
       "      <th>2</th>\n",
       "      <td>4.000</td>\n",
       "      <td>4.0000</td>\n",
       "      <td>1600.000</td>\n",
       "      <td>4.0</td>\n",
       "      <td>0.726</td>\n",
       "    </tr>\n",
       "    <tr>\n",
       "      <th>3</th>\n",
       "      <td>0.500</td>\n",
       "      <td>0.5000</td>\n",
       "      <td>400.000</td>\n",
       "      <td>8.0</td>\n",
       "      <td>0.573</td>\n",
       "    </tr>\n",
       "    <tr>\n",
       "      <th>4</th>\n",
       "      <td>0.125</td>\n",
       "      <td>0.0625</td>\n",
       "      <td>100.000</td>\n",
       "      <td>0.0</td>\n",
       "      <td>0.408</td>\n",
       "    </tr>\n",
       "  </tbody>\n",
       "</table>\n",
       "</div>"
      ],
      "text/plain": [
       "   (+)-Griseofulvin  (S)-(+)-Camptothecin  Chloramphenicol  Metformin  \\\n",
       "0             1.000                2.0000            0.000        0.5   \n",
       "1            64.000                2.0000            3.125      128.0   \n",
       "2             4.000                4.0000         1600.000        4.0   \n",
       "3             0.500                0.5000          400.000        8.0   \n",
       "4             0.125                0.0625          100.000        0.0   \n",
       "\n",
       "   Cell viability  \n",
       "0           0.707  \n",
       "1           0.636  \n",
       "2           0.726  \n",
       "3           0.573  \n",
       "4           0.408  "
      ]
     },
     "execution_count": 3,
     "metadata": {},
     "output_type": "execute_result"
    }
   ],
   "source": [
    "First.head()"
   ]
  },
  {
   "cell_type": "code",
   "execution_count": 4,
   "id": "0a7dc113",
   "metadata": {},
   "outputs": [],
   "source": [
    "First = First.values"
   ]
  },
  {
   "cell_type": "code",
   "execution_count": 5,
   "id": "e09c0006",
   "metadata": {},
   "outputs": [],
   "source": [
    "Second = pd.read_csv('2nd_final.txt', header = 0)"
   ]
  },
  {
   "cell_type": "code",
   "execution_count": 6,
   "id": "a034c49a",
   "metadata": {},
   "outputs": [
    {
     "data": {
      "text/html": [
       "<div>\n",
       "<style scoped>\n",
       "    .dataframe tbody tr th:only-of-type {\n",
       "        vertical-align: middle;\n",
       "    }\n",
       "\n",
       "    .dataframe tbody tr th {\n",
       "        vertical-align: top;\n",
       "    }\n",
       "\n",
       "    .dataframe thead th {\n",
       "        text-align: right;\n",
       "    }\n",
       "</style>\n",
       "<table border=\"1\" class=\"dataframe\">\n",
       "  <thead>\n",
       "    <tr style=\"text-align: right;\">\n",
       "      <th></th>\n",
       "      <th>(+)-Griseofulvin</th>\n",
       "      <th>(S)-(+)-Camptothecin</th>\n",
       "      <th>Chloramphenicol</th>\n",
       "      <th>Metformin</th>\n",
       "      <th>Cell viability</th>\n",
       "    </tr>\n",
       "  </thead>\n",
       "  <tbody>\n",
       "    <tr>\n",
       "      <th>0</th>\n",
       "      <td>4.00</td>\n",
       "      <td>4.000</td>\n",
       "      <td>1600.00</td>\n",
       "      <td>32</td>\n",
       "      <td>0.974</td>\n",
       "    </tr>\n",
       "    <tr>\n",
       "      <th>1</th>\n",
       "      <td>0.25</td>\n",
       "      <td>4.000</td>\n",
       "      <td>6.25</td>\n",
       "      <td>0</td>\n",
       "      <td>0.878</td>\n",
       "    </tr>\n",
       "    <tr>\n",
       "      <th>2</th>\n",
       "      <td>2.00</td>\n",
       "      <td>4.000</td>\n",
       "      <td>50.00</td>\n",
       "      <td>0</td>\n",
       "      <td>0.913</td>\n",
       "    </tr>\n",
       "    <tr>\n",
       "      <th>3</th>\n",
       "      <td>2.00</td>\n",
       "      <td>16.000</td>\n",
       "      <td>400.00</td>\n",
       "      <td>256</td>\n",
       "      <td>0.936</td>\n",
       "    </tr>\n",
       "    <tr>\n",
       "      <th>4</th>\n",
       "      <td>0.00</td>\n",
       "      <td>0.125</td>\n",
       "      <td>200.00</td>\n",
       "      <td>1</td>\n",
       "      <td>0.822</td>\n",
       "    </tr>\n",
       "  </tbody>\n",
       "</table>\n",
       "</div>"
      ],
      "text/plain": [
       "   (+)-Griseofulvin  (S)-(+)-Camptothecin  Chloramphenicol  Metformin  \\\n",
       "0              4.00                 4.000          1600.00         32   \n",
       "1              0.25                 4.000             6.25          0   \n",
       "2              2.00                 4.000            50.00          0   \n",
       "3              2.00                16.000           400.00        256   \n",
       "4              0.00                 0.125           200.00          1   \n",
       "\n",
       "   Cell viability  \n",
       "0           0.974  \n",
       "1           0.878  \n",
       "2           0.913  \n",
       "3           0.936  \n",
       "4           0.822  "
      ]
     },
     "execution_count": 6,
     "metadata": {},
     "output_type": "execute_result"
    }
   ],
   "source": [
    "Second.head()"
   ]
  },
  {
   "cell_type": "code",
   "execution_count": 7,
   "id": "dc9d63f7",
   "metadata": {},
   "outputs": [],
   "source": [
    "Second = Second.values"
   ]
  },
  {
   "cell_type": "code",
   "execution_count": 8,
   "id": "e09f2aa2",
   "metadata": {},
   "outputs": [],
   "source": [
    "test = pd.read_csv('test_1st_results.txt', header = 0)"
   ]
  },
  {
   "cell_type": "code",
   "execution_count": 9,
   "id": "ae198fca",
   "metadata": {},
   "outputs": [
    {
     "data": {
      "text/html": [
       "<div>\n",
       "<style scoped>\n",
       "    .dataframe tbody tr th:only-of-type {\n",
       "        vertical-align: middle;\n",
       "    }\n",
       "\n",
       "    .dataframe tbody tr th {\n",
       "        vertical-align: top;\n",
       "    }\n",
       "\n",
       "    .dataframe thead th {\n",
       "        text-align: right;\n",
       "    }\n",
       "</style>\n",
       "<table border=\"1\" class=\"dataframe\">\n",
       "  <thead>\n",
       "    <tr style=\"text-align: right;\">\n",
       "      <th></th>\n",
       "      <th>(+)-Griseofulvin</th>\n",
       "      <th>(S)-(+)-Camptothecin</th>\n",
       "      <th>Chloramphenicol</th>\n",
       "      <th>Metformin</th>\n",
       "      <th>Cell viability</th>\n",
       "    </tr>\n",
       "  </thead>\n",
       "  <tbody>\n",
       "    <tr>\n",
       "      <th>0</th>\n",
       "      <td>16.00</td>\n",
       "      <td>4.0</td>\n",
       "      <td>200.0</td>\n",
       "      <td>256.0</td>\n",
       "      <td>0.640</td>\n",
       "    </tr>\n",
       "    <tr>\n",
       "      <th>1</th>\n",
       "      <td>128.00</td>\n",
       "      <td>2.0</td>\n",
       "      <td>800.0</td>\n",
       "      <td>2.0</td>\n",
       "      <td>0.641</td>\n",
       "    </tr>\n",
       "    <tr>\n",
       "      <th>2</th>\n",
       "      <td>0.50</td>\n",
       "      <td>0.0</td>\n",
       "      <td>100.0</td>\n",
       "      <td>128.0</td>\n",
       "      <td>0.556</td>\n",
       "    </tr>\n",
       "    <tr>\n",
       "      <th>3</th>\n",
       "      <td>1.00</td>\n",
       "      <td>16.0</td>\n",
       "      <td>50.0</td>\n",
       "      <td>0.5</td>\n",
       "      <td>0.708</td>\n",
       "    </tr>\n",
       "    <tr>\n",
       "      <th>4</th>\n",
       "      <td>0.25</td>\n",
       "      <td>4.0</td>\n",
       "      <td>12.5</td>\n",
       "      <td>64.0</td>\n",
       "      <td>0.686</td>\n",
       "    </tr>\n",
       "  </tbody>\n",
       "</table>\n",
       "</div>"
      ],
      "text/plain": [
       "   (+)-Griseofulvin  (S)-(+)-Camptothecin  Chloramphenicol  Metformin  \\\n",
       "0             16.00                   4.0            200.0      256.0   \n",
       "1            128.00                   2.0            800.0        2.0   \n",
       "2              0.50                   0.0            100.0      128.0   \n",
       "3              1.00                  16.0             50.0        0.5   \n",
       "4              0.25                   4.0             12.5       64.0   \n",
       "\n",
       "   Cell viability  \n",
       "0           0.640  \n",
       "1           0.641  \n",
       "2           0.556  \n",
       "3           0.708  \n",
       "4           0.686  "
      ]
     },
     "execution_count": 9,
     "metadata": {},
     "output_type": "execute_result"
    }
   ],
   "source": [
    "test.head()"
   ]
  },
  {
   "cell_type": "code",
   "execution_count": 10,
   "id": "82d8b654",
   "metadata": {},
   "outputs": [],
   "source": [
    "test = test.values"
   ]
  },
  {
   "cell_type": "code",
   "execution_count": 11,
   "id": "c9ed4ee1",
   "metadata": {},
   "outputs": [],
   "source": [
    "regr_1 = RandomForestRegressor()"
   ]
  },
  {
   "cell_type": "code",
   "execution_count": 12,
   "id": "c1048eb7",
   "metadata": {},
   "outputs": [
    {
     "data": {
      "text/plain": [
       "RandomForestRegressor()"
      ]
     },
     "execution_count": 12,
     "metadata": {},
     "output_type": "execute_result"
    }
   ],
   "source": [
    "regr_1.fit(First[:, :-1], First[:, -1])"
   ]
  },
  {
   "cell_type": "code",
   "execution_count": 13,
   "id": "96fba8d5",
   "metadata": {},
   "outputs": [],
   "source": [
    "y_1_pred = regr_1.predict(test[:, :-1])"
   ]
  },
  {
   "cell_type": "code",
   "execution_count": 14,
   "id": "daa6ef5e",
   "metadata": {},
   "outputs": [],
   "source": [
    "MSE_1 = mean_squared_error(y_1_pred, test[:, -1])"
   ]
  },
  {
   "cell_type": "code",
   "execution_count": 15,
   "id": "cce71bf4",
   "metadata": {},
   "outputs": [
    {
     "data": {
      "text/plain": [
       "0.020428789385185168"
      ]
     },
     "execution_count": 15,
     "metadata": {},
     "output_type": "execute_result"
    }
   ],
   "source": [
    "MSE_1"
   ]
  },
  {
   "cell_type": "code",
   "execution_count": 16,
   "id": "4fc7dcc6",
   "metadata": {},
   "outputs": [],
   "source": [
    "Comb = np.concatenate((First, Second), axis = 0)"
   ]
  },
  {
   "cell_type": "code",
   "execution_count": 17,
   "id": "d4600c4c",
   "metadata": {},
   "outputs": [],
   "source": [
    "regr_2 = RandomForestRegressor()"
   ]
  },
  {
   "cell_type": "code",
   "execution_count": 18,
   "id": "04717bef",
   "metadata": {},
   "outputs": [
    {
     "data": {
      "text/plain": [
       "RandomForestRegressor()"
      ]
     },
     "execution_count": 18,
     "metadata": {},
     "output_type": "execute_result"
    }
   ],
   "source": [
    "regr_2.fit(Comb[:, :-1], Comb[:, -1])"
   ]
  },
  {
   "cell_type": "code",
   "execution_count": 19,
   "id": "7118ea5a",
   "metadata": {},
   "outputs": [],
   "source": [
    "y_2_pred = regr_2.predict(test[:, :-1])"
   ]
  },
  {
   "cell_type": "code",
   "execution_count": 20,
   "id": "b4160050",
   "metadata": {},
   "outputs": [],
   "source": [
    "MSE_2 = mean_squared_error(y_2_pred, test[:, -1])"
   ]
  },
  {
   "cell_type": "code",
   "execution_count": 21,
   "id": "5d199789",
   "metadata": {},
   "outputs": [],
   "source": [
    "MSE_by_well_1 = (y_1_pred - test[:, -1])**2"
   ]
  },
  {
   "cell_type": "code",
   "execution_count": 22,
   "id": "cf3c0204",
   "metadata": {},
   "outputs": [],
   "source": [
    "MSE_by_well_2 = (y_2_pred - test[:, -1])**2"
   ]
  },
  {
   "cell_type": "code",
   "execution_count": 33,
   "id": "828124a1",
   "metadata": {},
   "outputs": [
    {
     "data": {
      "image/png": "[encoded data removed]",
      "text/plain": [
       "<Figure size 1200x800 with 1 Axes>"
      ]
     },
     "metadata": {
      "needs_background": "light"
     },
     "output_type": "display_data"
    }
   ],
   "source": [
    "plt.figure(figsize=(12, 8), dpi=100)\n",
    "idx = [i for i in range(54)]\n",
    "plt.bar(idx, MSE_by_well_1, label = \"MSE between test set and prediction by model trained on 1st round results\", linestyle = \"--\", color = \"black\")\n",
    "plt.bar(idx, MSE_by_well_2, label = \"MSE between test set and prediction by model trained on both1st and 2nd round results\", linestyle = \"--\", color = 'red', alpha = 0.7)\n",
    "plt.title(\"Squared Error between Prediction and Test Set by Each Well\", fontsize = 18)\n",
    "plt.xlabel(\"Test Plate Well Index\", fontsize = 16)\n",
    "plt.ylabel(\"Squared Error\", fontsize = 16)\n",
    "plt.legend(loc = \"upper left\")\n",
    "plt.show()"
   ]
  },
  {
   "cell_type": "code",
   "execution_count": 24,
   "id": "d5d2fb7a",
   "metadata": {},
   "outputs": [],
   "source": [
    "X_label = ['Experiment Round 1', 'Experiment Round 2']\n",
    "Acc = [MSE_1, MSE_2]"
   ]
  },
  {
   "cell_type": "code",
   "execution_count": 25,
   "id": "dc6c9794",
   "metadata": {},
   "outputs": [
    {
     "data": {
      "text/plain": [
       "[0.020428789385185168, 0.01951330035370371]"
      ]
     },
     "execution_count": 25,
     "metadata": {},
     "output_type": "execute_result"
    }
   ],
   "source": [
    "Acc"
   ]
  },
  {
   "cell_type": "code",
   "execution_count": 26,
   "id": "7455adff",
   "metadata": {},
   "outputs": [
    {
     "data": {
      "text/plain": [
       "0.044813670267968266"
      ]
     },
     "execution_count": 26,
     "metadata": {},
     "output_type": "execute_result"
    }
   ],
   "source": [
    "impro_percentage = (MSE_1 - MSE_2)/ MSE_1\n",
    "impro_percentage"
   ]
  },
  {
   "cell_type": "code",
   "execution_count": 27,
   "id": "a9fc8ad4",
   "metadata": {},
   "outputs": [
    {
     "data": {
      "image/png": "[encoded data removed]",
      "text/plain": [
       "<Figure size 1200x800 with 1 Axes>"
      ]
     },
     "metadata": {
      "needs_background": "light"
     },
     "output_type": "display_data"
    }
   ],
   "source": [
    "plt.figure(figsize=(12, 8), dpi=100)\n",
    "plt.plot(X_label, Acc, color = 'blue')\n",
    "plt.title('Overall Mean Squared Error (MSE) on Test Set', fontsize = 16)\n",
    "plt.xticks(X_label, fontsize= 14)\n",
    "plt.yticks(fontsize= 14)\n",
    "plt.show()"
   ]
  },
  {
   "cell_type": "code",
   "execution_count": null,
   "id": "578fffa4",
   "metadata": {},
   "outputs": [],
   "source": []
  }
 ],
 "metadata": {
  "kernelspec": {
   "display_name": "Python 3 (ipykernel)",
   "language": "python",
   "name": "python3"
  },
  "language_info": {
   "codemirror_mode": {
    "name": "ipython",
    "version": 3
   },
   "file_extension": ".py",
   "mimetype": "text/x-python",
   "name": "python",
   "nbconvert_exporter": "python",
   "pygments_lexer": "ipython3",
   "version": "3.9.7"
  }
 },
 "nbformat": 4,
 "nbformat_minor": 5
}
