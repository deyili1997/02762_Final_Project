{
 "cells": [
  {
   "cell_type": "code",
   "execution_count": 1,
   "id": "e4a1a8fc",
   "metadata": {},
   "outputs": [],
   "source": [
    "import pandas as pd\n",
    "import matplotlib.pyplot as plt\n",
    "import numpy as np\n",
    "import sklearn\n",
    "from sklearn.linear_model import LinearRegression\n",
    "from sklearn.model_selection import KFold\n",
    "from sklearn.metrics import mean_squared_error\n",
    "from scipy.stats import entropy\n",
    "import statistics\n",
    "import math\n",
    "from sklearn.ensemble import RandomForestRegressor\n",
    "from sklearn.ensemble import GradientBoostingRegressor\n",
    "from sklearn.svm import SVR"
   ]
  },
  {
   "cell_type": "markdown",
   "id": "aeb7fa6f",
   "metadata": {},
   "source": [
    "# Part 1"
   ]
  },
  {
   "cell_type": "code",
   "execution_count": 2,
   "id": "2e57e338",
   "metadata": {},
   "outputs": [
    {
     "data": {
      "text/plain": [
       "(20736, 5)"
      ]
     },
     "execution_count": 2,
     "metadata": {},
     "output_type": "execute_result"
    }
   ],
   "source": [
    "#I use random forest for the base learner. Then I calculate the entropy of each unlabeled sample and ask oracle \n",
    "#for the one with the most uncertainty.\n",
    "#read in the csv files\n",
    "own = pd.read_csv('Our_drug_simulation_dataset.csv')\n",
    "own = own.drop([\"Unnamed: 0\"], axis = 1)\n",
    "data = own.values\n",
    "data.shape"
   ]
  },
  {
   "cell_type": "code",
   "execution_count": 3,
   "id": "c62c60e4",
   "metadata": {},
   "outputs": [
    {
     "name": "stdout",
     "output_type": "stream",
     "text": [
      "(54, 5)\n",
      "(20682, 5)\n"
     ]
    }
   ],
   "source": [
    "test_idx = np.random.choice(data.shape[0], 54, replace = False)\n",
    "test_set = data[test_idx]\n",
    "mask = np.full(len(data), True)\n",
    "mask[test_idx] = False\n",
    "train_set = data[mask]\n",
    "print(test_set.shape)\n",
    "print(train_set.shape)"
   ]
  },
  {
   "cell_type": "code",
   "execution_count": 11,
   "id": "79309102",
   "metadata": {},
   "outputs": [],
   "source": [
    "\n",
    "RF = RandomForestRegressor()\n",
    "batch_size = 3\n",
    "np.random.seed(35)\n",
    "seed_pool = np.random.choice(10000, 10, replace = False)"
   ]
  },
  {
   "cell_type": "code",
   "execution_count": 14,
   "id": "77d3b62b",
   "metadata": {},
   "outputs": [],
   "source": [
    "def initial_sample(seed_idx, seed_pool, data, num):\n",
    "    #randomly pick \"num\" instances to ask oracle to label, move them into the labeled dataset \n",
    "    #so the left instances form the unobserved data set\n",
    "    n_sample = len(data) #get the total instance number in the data set\n",
    "    np.random.seed(seed_pool[seed_idx])\n",
    "    choice_idx = np.random.choice(n_sample, num, replace = False)\n",
    "    ob_data = data[choice_idx,:]\n",
    "    mask = np.full(n_sample, True)\n",
    "    mask[choice_idx] = False# Enginelse\n",
    "    unob_data = data[mask,:]\n",
    "    return ob_data, unob_data"
   ]
  },
  {
   "cell_type": "markdown",
   "id": "e981a680",
   "metadata": {},
   "source": [
    "# Engine"
   ]
  },
  {
   "cell_type": "code",
   "execution_count": 23,
   "id": "adb86d03",
   "metadata": {},
   "outputs": [],
   "source": [
    "def aggresive_unob(seed_pool, data,test, simulation_round, learning_round, model, criterion, init_num, batch_size, output_ob = False):\n",
    "    n_attri = data.shape[1]\n",
    "    ten_sim = []\n",
    "    all_ob_data = []\n",
    "    for s in range(simulation_round):\n",
    "        unob_accuracy = []\n",
    "        ob_data, unob_data = initial_sample(s, seed_pool, data, init_num)\n",
    "        \n",
    "        for r in range(learning_round+1):\n",
    "            if r >= 1:\n",
    "                idx_unob = criterion(model, ob_data, unob_data, batch_size)\n",
    "                ob_data = np.append(ob_data, unob_data[idx_unob].reshape(batch_size, n_attri),axis = 0)\n",
    "                unob_data = np.delete(unob_data, idx_unob.reshape(1, -1), axis = 0)\n",
    "            model.fit(ob_data[:,0:4],ob_data[:,4])\n",
    "            acc = RF.score(test[:,0:4], test[:,4])\n",
    "            if r >= 1:\n",
    "                for i in range(batch_size):\n",
    "                    unob_accuracy.append(acc)\n",
    "            else:\n",
    "                unob_accuracy.append(acc)\n",
    "        ten_sim.append(unob_accuracy) \n",
    "        all_ob_data.append(ob_data)\n",
    "        print(f'Finish simulation round {(s+1)}!')\n",
    "    if output_ob == False:\n",
    "        return ten_sim\n",
    "    else:\n",
    "        return ten_sim, all_ob_data"
   ]
  },
  {
   "cell_type": "markdown",
   "id": "4e4da6c3",
   "metadata": {},
   "source": [
    "# Random Sampling"
   ]
  },
  {
   "cell_type": "code",
   "execution_count": 24,
   "id": "c1af928f",
   "metadata": {},
   "outputs": [],
   "source": [
    "#random sampling\n",
    "def random_sampling(seed_pool, data, test, simulation_round, learning_round, model, init_num, batch_size):\n",
    "    n_attri = data.shape[1]\n",
    "    ten_sim_random = []\n",
    "    for s in range(simulation_round):\n",
    "        unob_accuracy = []\n",
    "        ob_data, unob_data = initial_sample(s, seed_pool, data, init_num)\n",
    "        for r in range(learning_round+1):\n",
    "            if r >= 1:\n",
    "                random_idx = np.random.choice(len(unob_data), batch_size)\n",
    "                ob_data = np.append(ob_data, unob_data[random_idx].reshape(batch_size, n_attri) ,axis = 0)\n",
    "                unob_data = np.delete(unob_data, random_idx.reshape(1, -1), axis = 0)\n",
    "            model.fit(ob_data[:,0:4],ob_data[:,4])\n",
    "            acc = RF.score(test[:,0:4], test[:,4])\n",
    "            if r >= 1:\n",
    "                for i in range(batch_size):\n",
    "                    unob_accuracy.append(acc)\n",
    "            else:\n",
    "                unob_accuracy.append(acc)\n",
    "        ten_sim_random.append(unob_accuracy)\n",
    "        print(f'Finish simulation round {(s+1)}!')\n",
    "    return ten_sim_random"
   ]
  },
  {
   "cell_type": "code",
   "execution_count": 25,
   "id": "5e636000",
   "metadata": {},
   "outputs": [
    {
     "name": "stdout",
     "output_type": "stream",
     "text": [
      "Finish simulation round 1!\n",
      "Finish simulation round 2!\n",
      "Finish simulation round 3!\n"
     ]
    }
   ],
   "source": [
    "randon_unob = random_sampling(seed_pool, data, test_set, 3, 20, RF, 54, 54)\n",
    "random_ubob_mean = np.mean(randon_unob, axis = 0)\n",
    "random_unob_std = np.std(randon_unob, axis = 0)"
   ]
  },
  {
   "cell_type": "markdown",
   "id": "11826fe4",
   "metadata": {},
   "source": [
    "# Uncertainty Sampling"
   ]
  },
  {
   "cell_type": "code",
   "execution_count": 26,
   "id": "ca58a368",
   "metadata": {},
   "outputs": [],
   "source": [
    "def shoose_by_uncertainty(model, ob_data, unob_data, batch_size):\n",
    "    var_list = []\n",
    "    for data in unob_data:\n",
    "        this_x = data[0:4]\n",
    "        this_pre = [n.predict(this_x.reshape(1,-1)) for n in model.estimators_]\n",
    "        var = np.var(this_pre)\n",
    "        var_list.append(var)  \n",
    "\n",
    "    idx_list = []\n",
    "    var = np.argsort(var_list)\n",
    "    for i in range(batch_size):\n",
    "        max_index = var[-(i+1)]\n",
    "        idx_list.append(max_index)\n",
    "    return np.array(idx_list)"
   ]
  },
  {
   "cell_type": "code",
   "execution_count": null,
   "id": "ec62f6bf",
   "metadata": {},
   "outputs": [
    {
     "name": "stdout",
     "output_type": "stream",
     "text": [
      "Finish simulation round 1!\n",
      "Finish simulation round 2!\n"
     ]
    }
   ],
   "source": [
    "uncertainty_unob = aggresive_unob(seed_pool, data, test_set, 3, 20, RF, shoose_by_uncertainty, 54, 54)\n",
    "uncertainty_unob_mean = np.mean(uncertainty_unob, axis = 0)\n",
    "uncertainty_unob_std = np.std(uncertainty_unob, axis = 0)"
   ]
  },
  {
   "cell_type": "markdown",
   "id": "b885c042",
   "metadata": {},
   "source": [
    "# Diversity Sampling"
   ]
  },
  {
   "cell_type": "code",
   "execution_count": 10,
   "id": "6de2ef2c",
   "metadata": {},
   "outputs": [],
   "source": [
    "def choose_by_diversity(model, ob_data, unob_data, batch_size):\n",
    "    unob_x = unob_data[:, 0:2]\n",
    "    unob_y = unob_data[:, 2]\n",
    "    ob_x = ob_data[:, 0:2]\n",
    "    ob_y = ob_data[:, 2]\n",
    "    max_r = ob_data.shape[0] + 3 \n",
    "    for k in range(3, max_r + 1):\n",
    "        kmeans = KMeans(n_clusters = k).fit(unob_x)\n",
    "        wasted_idx = np.unique(kmeans.predict(ob_x))\n",
    "        candidate_idx = np.delete([i for i in range(k)], wasted_idx)\n",
    "        if len(candidate_idx) >= 3:\n",
    "            candidate_idx = np.random.choice(candidate_idx, batch_size)\n",
    "            centroids = kmeans.cluster_centers_[candidate_idx]\n",
    "            closest, _ = pairwise_distances_argmin_min(centroids, unob_x)\n",
    "            return np.array(closest)\n",
    "        "
   ]
  },
  {
   "cell_type": "code",
   "execution_count": 11,
   "id": "afea6a5b",
   "metadata": {},
   "outputs": [
    {
     "name": "stdout",
     "output_type": "stream",
     "text": [
      "Finish simulation round 1!\n",
      "Finish simulation round 2!\n",
      "Finish simulation round 3!\n",
      "Finish simulation round 4!\n",
      "Finish simulation round 5!\n",
      "Finish simulation round 6!\n",
      "Finish simulation round 7!\n",
      "Finish simulation round 8!\n",
      "Finish simulation round 9!\n",
      "Finish simulation round 10!\n"
     ]
    }
   ],
   "source": [
    "diversity_unob = aggresive_unob(seed_pool, data, simulation_round, learning_round, RF, choose_by_diversity, 5, 3)\n",
    "diversity_unob_mean = np.mean(diversity_unob, axis = 0)\n",
    "diversity_unob_std = np.std(diversity_unob, axis = 0)"
   ]
  },
  {
   "cell_type": "markdown",
   "id": "d4142e0f",
   "metadata": {},
   "source": [
    "# Meta Learning"
   ]
  },
  {
   "cell_type": "code",
   "execution_count": 12,
   "id": "4899e30c",
   "metadata": {},
   "outputs": [],
   "source": [
    "def get_angle_sin(vec1, vec2):\n",
    "    inner = np.inner(vec1, vec2)\n",
    "    norms = np.linalg.norm(vec1) * np.linalg.norm(vec2)\n",
    "    cos = inner / norms\n",
    "    rad = np.arccos(np.clip(cos, -1.0, 1.0))\n",
    "    deg = np.rad2deg(rad)\n",
    "    return np.sin(deg*np.pi/180)"
   ]
  },
  {
   "cell_type": "code",
   "execution_count": 13,
   "id": "6b4272b2",
   "metadata": {},
   "outputs": [],
   "source": [
    "def get_first_one(unob_x, unob_y, ob_x, ob_y, entro):\n",
    "     #choose the first instance\n",
    "    matrix_for_first = np.zeros((len(unob_x), len(ob_x)))\n",
    "    for u in range(len(unob_x)):\n",
    "        for o in range(len(ob_x)):\n",
    "            matrix_for_first[u, o] = get_angle_sin(unob_x[u], ob_x[o])\n",
    "    matrix_for_first = matrix_for_first.min(axis = 1)\n",
    "    metrics = matrix_for_first * entro\n",
    "    idx = np.argmax(metrics)\n",
    "    return idx"
   ]
  },
  {
   "cell_type": "code",
   "execution_count": 14,
   "id": "92e4c517",
   "metadata": {},
   "outputs": [],
   "source": [
    "def meta_learning(model, ob_data, unob_data, batch_size):\n",
    "    unob_x = unob_data[:, 0:2]\n",
    "    unob_y = unob_data[:, 2]\n",
    "    ob_x = ob_data[:, 0:2]\n",
    "    ob_y = ob_data[:, 2]\n",
    "    meta_l = []\n",
    "    entro = entropy(RF.predict_proba(unob_data[:,0:2]), axis = 1)\n",
    "    first_idx = get_first_one(unob_x, unob_y, ob_x, ob_y, entro)\n",
    "    meta_l.append(first_idx)\n",
    "    A = np.array([unob_x[first_idx]])\n",
    "    for i in range(2, batch_size+1):\n",
    "        matrix = np.zeros((len(unob_data), len(A)))\n",
    "        for u in range(len(unob_data)):\n",
    "            for s in range(len(A)):\n",
    "                matrix[u,s] = get_angle_sin(unob_x[u], A[s])\n",
    "        matrix = matrix.min(axis = 1)\n",
    "        metrics = matrix * entro\n",
    "        idx = np.argmax(metrics)\n",
    "        meta_l.append(idx)\n",
    "        A = np.append(A, unob_x[idx].reshape(1,-1),axis = 0)\n",
    "    return np.array(meta_l)"
   ]
  },
  {
   "cell_type": "code",
   "execution_count": 15,
   "id": "851b3495",
   "metadata": {},
   "outputs": [
    {
     "name": "stdout",
     "output_type": "stream",
     "text": [
      "Finish simulation round 1!\n",
      "Finish simulation round 2!\n",
      "Finish simulation round 3!\n",
      "Finish simulation round 4!\n",
      "Finish simulation round 5!\n",
      "Finish simulation round 6!\n",
      "Finish simulation round 7!\n",
      "Finish simulation round 8!\n",
      "Finish simulation round 9!\n",
      "Finish simulation round 10!\n"
     ]
    }
   ],
   "source": [
    "meta_unob = aggresive_unob(seed_pool, data, simulation_round, learning_round, RF, meta_learning, 5, 3)\n",
    "meta_unob_mean = np.mean(meta_unob, axis = 0)\n",
    "meta_unob_std = np.std(meta_unob, axis = 0)"
   ]
  },
  {
   "cell_type": "markdown",
   "id": "cd35419d",
   "metadata": {},
   "source": [
    "# Myopic sampling (batch size = 1)"
   ]
  },
  {
   "cell_type": "code",
   "execution_count": 16,
   "id": "5955fd41",
   "metadata": {},
   "outputs": [
    {
     "name": "stdout",
     "output_type": "stream",
     "text": [
      "Finish simulation round 1!\n",
      "Finish simulation round 2!\n",
      "Finish simulation round 3!\n",
      "Finish simulation round 4!\n",
      "Finish simulation round 5!\n",
      "Finish simulation round 6!\n",
      "Finish simulation round 7!\n",
      "Finish simulation round 8!\n",
      "Finish simulation round 9!\n",
      "Finish simulation round 10!\n"
     ]
    }
   ],
   "source": [
    "myopic_unob = aggresive_unob(seed_pool, data, simulation_round, 45, RF, shoose_by_uncertainty, 5, 1)\n",
    "myopic_unob_mean = np.mean(myopic_unob, axis = 0)\n",
    "myopic_unob_std = np.std(myopic_unob, axis = 0)"
   ]
  },
  {
   "cell_type": "markdown",
   "id": "9d08d859",
   "metadata": {},
   "source": [
    "# Error of Unobserved Data"
   ]
  },
  {
   "cell_type": "code",
   "execution_count": 21,
   "id": "7c41d1da",
   "metadata": {
    "scrolled": true
   },
   "outputs": [
    {
     "data": {
      "image/png": "[encoded data removed]",
      "text/plain": [
       "<Figure size 1200x800 with 1 Axes>"
      ]
     },
     "metadata": {
      "needs_background": "light"
     },
     "output_type": "display_data"
    }
   ],
   "source": [
    "round_idx = np.array([i for i in range(54, 54 + 54 * 20 + 1)])\n",
    "plt.figure(figsize=(12, 8), dpi=100)\n",
    "\n",
    "# plt.errorbar(round_idx, uncertainty_unob_mean, uncertainty_unob_std, linestyle='-', marker= None,color = 'red', label = 'Uncertainty sampling')\n",
    "# plt.errorbar(round_idx, diversity_unob_mean, diversity_unob_std, linestyle='-', marker=None,color = 'orange', label = 'Diversity sampling')\n",
    "# plt.errorbar(round_idx, meta_unob_mean, meta_unob_std, linestyle='-', marker=None,color = 'blue', label = 'Meta learning')\n",
    "# plt.errorbar(round_idx, myopic_unob_mean, myopic_unob_std, linestyle='-', marker=None,color = 'purple', label = 'Myopic sampling, batch size = 1')\n",
    "plt.errorbar(round_idx, random_ubob_mean, random_unob_std, linestyle='-', marker=None,color = 'black', label = 'Random sampling')\n",
    "plt.title('R on test data')\n",
    "plt.xlabel('Learning round')\n",
    "plt.ylabel('Mean and std of accuracy')\n",
    "plt.legend()\n",
    "plt.show()"
   ]
  },
  {
   "cell_type": "markdown",
   "id": "47674ecd",
   "metadata": {},
   "source": [
    "# Part 2"
   ]
  },
  {
   "cell_type": "markdown",
   "id": "456130ee",
   "metadata": {},
   "source": [
    "# Cost-based Active Learning"
   ]
  },
  {
   "cell_type": "code",
   "execution_count": 18,
   "id": "09995765",
   "metadata": {},
   "outputs": [],
   "source": [
    "data2 = pd.read_csv('classification2.csv')"
   ]
  },
  {
   "cell_type": "code",
   "execution_count": 19,
   "id": "413db6e7",
   "metadata": {},
   "outputs": [
    {
     "data": {
      "text/html": [
       "<div>\n",
       "<style scoped>\n",
       "    .dataframe tbody tr th:only-of-type {\n",
       "        vertical-align: middle;\n",
       "    }\n",
       "\n",
       "    .dataframe tbody tr th {\n",
       "        vertical-align: top;\n",
       "    }\n",
       "\n",
       "    .dataframe thead th {\n",
       "        text-align: right;\n",
       "    }\n",
       "</style>\n",
       "<table border=\"1\" class=\"dataframe\">\n",
       "  <thead>\n",
       "    <tr style=\"text-align: right;\">\n",
       "      <th></th>\n",
       "      <th>x1</th>\n",
       "      <th>x2</th>\n",
       "      <th>y</th>\n",
       "      <th>cost</th>\n",
       "      <th>Unnamed: 4</th>\n",
       "    </tr>\n",
       "  </thead>\n",
       "  <tbody>\n",
       "    <tr>\n",
       "      <th>0</th>\n",
       "      <td>0.730371</td>\n",
       "      <td>0.151333</td>\n",
       "      <td>0</td>\n",
       "      <td>2.828427</td>\n",
       "      <td>2.828427</td>\n",
       "    </tr>\n",
       "    <tr>\n",
       "      <th>1</th>\n",
       "      <td>0.800499</td>\n",
       "      <td>0.111498</td>\n",
       "      <td>2</td>\n",
       "      <td>2.828427</td>\n",
       "      <td>5.656854</td>\n",
       "    </tr>\n",
       "    <tr>\n",
       "      <th>2</th>\n",
       "      <td>0.699113</td>\n",
       "      <td>0.417090</td>\n",
       "      <td>1</td>\n",
       "      <td>2.828427</td>\n",
       "      <td>8.485281</td>\n",
       "    </tr>\n",
       "    <tr>\n",
       "      <th>3</th>\n",
       "      <td>0.776930</td>\n",
       "      <td>0.190549</td>\n",
       "      <td>2</td>\n",
       "      <td>2.828427</td>\n",
       "      <td>11.313709</td>\n",
       "    </tr>\n",
       "    <tr>\n",
       "      <th>4</th>\n",
       "      <td>0.926691</td>\n",
       "      <td>0.323239</td>\n",
       "      <td>2</td>\n",
       "      <td>2.828427</td>\n",
       "      <td>14.142136</td>\n",
       "    </tr>\n",
       "  </tbody>\n",
       "</table>\n",
       "</div>"
      ],
      "text/plain": [
       "         x1        x2  y      cost  Unnamed: 4\n",
       "0  0.730371  0.151333  0  2.828427    2.828427\n",
       "1  0.800499  0.111498  2  2.828427    5.656854\n",
       "2  0.699113  0.417090  1  2.828427    8.485281\n",
       "3  0.776930  0.190549  2  2.828427   11.313709\n",
       "4  0.926691  0.323239  2  2.828427   14.142136"
      ]
     },
     "execution_count": 19,
     "metadata": {},
     "output_type": "execute_result"
    }
   ],
   "source": [
    "data2.head()"
   ]
  },
  {
   "cell_type": "code",
   "execution_count": 20,
   "id": "dfa39544",
   "metadata": {},
   "outputs": [
    {
     "data": {
      "text/html": [
       "<div>\n",
       "<style scoped>\n",
       "    .dataframe tbody tr th:only-of-type {\n",
       "        vertical-align: middle;\n",
       "    }\n",
       "\n",
       "    .dataframe tbody tr th {\n",
       "        vertical-align: top;\n",
       "    }\n",
       "\n",
       "    .dataframe thead th {\n",
       "        text-align: right;\n",
       "    }\n",
       "</style>\n",
       "<table border=\"1\" class=\"dataframe\">\n",
       "  <thead>\n",
       "    <tr style=\"text-align: right;\">\n",
       "      <th></th>\n",
       "      <th>x1</th>\n",
       "      <th>x2</th>\n",
       "      <th>y</th>\n",
       "      <th>cost</th>\n",
       "    </tr>\n",
       "  </thead>\n",
       "  <tbody>\n",
       "    <tr>\n",
       "      <th>0</th>\n",
       "      <td>0.730371</td>\n",
       "      <td>0.151333</td>\n",
       "      <td>0</td>\n",
       "      <td>2.828427</td>\n",
       "    </tr>\n",
       "    <tr>\n",
       "      <th>1</th>\n",
       "      <td>0.800499</td>\n",
       "      <td>0.111498</td>\n",
       "      <td>2</td>\n",
       "      <td>2.828427</td>\n",
       "    </tr>\n",
       "    <tr>\n",
       "      <th>2</th>\n",
       "      <td>0.699113</td>\n",
       "      <td>0.417090</td>\n",
       "      <td>1</td>\n",
       "      <td>2.828427</td>\n",
       "    </tr>\n",
       "    <tr>\n",
       "      <th>3</th>\n",
       "      <td>0.776930</td>\n",
       "      <td>0.190549</td>\n",
       "      <td>2</td>\n",
       "      <td>2.828427</td>\n",
       "    </tr>\n",
       "    <tr>\n",
       "      <th>4</th>\n",
       "      <td>0.926691</td>\n",
       "      <td>0.323239</td>\n",
       "      <td>2</td>\n",
       "      <td>2.828427</td>\n",
       "    </tr>\n",
       "  </tbody>\n",
       "</table>\n",
       "</div>"
      ],
      "text/plain": [
       "         x1        x2  y      cost\n",
       "0  0.730371  0.151333  0  2.828427\n",
       "1  0.800499  0.111498  2  2.828427\n",
       "2  0.699113  0.417090  1  2.828427\n",
       "3  0.776930  0.190549  2  2.828427\n",
       "4  0.926691  0.323239  2  2.828427"
      ]
     },
     "execution_count": 20,
     "metadata": {},
     "output_type": "execute_result"
    }
   ],
   "source": [
    "data2 = data2.drop(columns = ['Unnamed: 4'])\n",
    "data2.head()"
   ]
  },
  {
   "cell_type": "code",
   "execution_count": 21,
   "id": "f650a747",
   "metadata": {},
   "outputs": [],
   "source": [
    "data2 = data2.values"
   ]
  },
  {
   "cell_type": "code",
   "execution_count": 22,
   "id": "31808ece",
   "metadata": {},
   "outputs": [
    {
     "name": "stdout",
     "output_type": "stream",
     "text": [
      "(200, 4)\n"
     ]
    }
   ],
   "source": [
    "print(data2.shape)"
   ]
  },
  {
   "cell_type": "code",
   "execution_count": 23,
   "id": "c059f3b2",
   "metadata": {},
   "outputs": [],
   "source": [
    "def normalize(arr):\n",
    "    min_value = np.min(arr)\n",
    "    max_value = np.max(arr)\n",
    "    arr = (arr - min_value)/(max_value - min_value)\n",
    "    return arr"
   ]
  },
  {
   "cell_type": "code",
   "execution_count": 24,
   "id": "b8275f2f",
   "metadata": {},
   "outputs": [],
   "source": [
    "def choose_by_utility(model, ob_data, unob_data):\n",
    "    values = entropy(RF.predict_proba(unob_data[:,0:2]), axis = 1)\n",
    "    cost = unob_data[:, 3]\n",
    "    values_norm = normalize(values)\n",
    "    cost_norm = normalize(cost)\n",
    "    utility = values_norm - cost_norm\n",
    "    idx = np.argmax(utility)\n",
    "    return idx"
   ]
  },
  {
   "cell_type": "code",
   "execution_count": 25,
   "id": "e03d2e58",
   "metadata": {},
   "outputs": [],
   "source": [
    "def proactive_learning(seed_pool, data, simulation_round, model, criterion, init_num, output_ob = False):\n",
    "    n_attri = data.shape[1]\n",
    "    ten_sim = []\n",
    "    expenditure_all = []\n",
    "    all_ob_data = []\n",
    "    for s in range(simulation_round):\n",
    "        unob_accuracy = []\n",
    "        expenditure_s = []\n",
    "        ob_data, unob_data = initial_sample(s, seed_pool, data, init_num)\n",
    "        init_cost = sum(ob_data[:, 3])\n",
    "        curr_budge = 500 - init_cost\n",
    "        learning_round = 0\n",
    "        if curr_budge > 0:\n",
    "            while True: \n",
    "                if learning_round >= 1:\n",
    "                    idx_unob = criterion(model, ob_data, unob_data)\n",
    "                    curr_budge -= unob_data[idx_unob, 3]\n",
    "                    if curr_budge <= 0:\n",
    "                        all_ob_data.append(ob_data)\n",
    "                        break\n",
    "                    ob_data = np.append(ob_data, unob_data[idx_unob].reshape(1,-1),axis = 0)\n",
    "                    unob_data = np.delete(unob_data, (idx_unob), axis = 0)\n",
    "                model.fit(ob_data[:,0:2],ob_data[:,2])\n",
    "                acc = RF.score(unob_data[:,0:2], unob_data[:,2])\n",
    "                expenditure = 500 - curr_budge\n",
    "                unob_accuracy.append(acc)\n",
    "                expenditure_s.append(expenditure.item())\n",
    "                learning_round += 1\n",
    "        ten_sim.append(unob_accuracy) \n",
    "        expenditure_all.append(expenditure_s)\n",
    "        print(f'Finish simulation round {(s+1)}!')\n",
    "    if output_ob == False:\n",
    "        return ten_sim, expenditure_all\n",
    "    else:\n",
    "        return ten_sim, expenditure_all, all_ob_data"
   ]
  },
  {
   "cell_type": "code",
   "execution_count": 26,
   "id": "eaf9933b",
   "metadata": {},
   "outputs": [
    {
     "name": "stdout",
     "output_type": "stream",
     "text": [
      "Finish simulation round 1!\n",
      "Finish simulation round 2!\n",
      "Finish simulation round 3!\n",
      "Finish simulation round 4!\n",
      "Finish simulation round 5!\n",
      "Finish simulation round 6!\n",
      "Finish simulation round 7!\n",
      "Finish simulation round 8!\n",
      "Finish simulation round 9!\n",
      "Finish simulation round 10!\n"
     ]
    }
   ],
   "source": [
    "utility_unob, utility_exp = proactive_learning(seed_pool, data2, simulation_round, RF, choose_by_utility, 5)"
   ]
  },
  {
   "cell_type": "markdown",
   "id": "40018403",
   "metadata": {},
   "source": [
    "# Choose by the Cheapest"
   ]
  },
  {
   "cell_type": "code",
   "execution_count": 27,
   "id": "d2d748ae",
   "metadata": {},
   "outputs": [],
   "source": [
    "def choose_by_cheapest(model, ob_data, unob_data):\n",
    "    cost = unob_data[:, 3]\n",
    "    idx = np.argmin(cost)\n",
    "    return idx"
   ]
  },
  {
   "cell_type": "code",
   "execution_count": 28,
   "id": "caf28656",
   "metadata": {},
   "outputs": [
    {
     "name": "stdout",
     "output_type": "stream",
     "text": [
      "Finish simulation round 1!\n",
      "Finish simulation round 2!\n",
      "Finish simulation round 3!\n",
      "Finish simulation round 4!\n",
      "Finish simulation round 5!\n",
      "Finish simulation round 6!\n",
      "Finish simulation round 7!\n",
      "Finish simulation round 8!\n",
      "Finish simulation round 9!\n",
      "Finish simulation round 10!\n"
     ]
    }
   ],
   "source": [
    "cost_unob, cost_exp = proactive_learning(seed_pool, data2, simulation_round, RF, choose_by_cheapest, 5)"
   ]
  },
  {
   "cell_type": "markdown",
   "id": "aa884808",
   "metadata": {},
   "source": [
    "# Random Pro-active Learning"
   ]
  },
  {
   "cell_type": "code",
   "execution_count": 29,
   "id": "1f679e06",
   "metadata": {},
   "outputs": [],
   "source": [
    "def choose_randomly(model, ob_data, unob_data):\n",
    "    return np.random.choice(range(unob_data.shape[0]), 1)"
   ]
  },
  {
   "cell_type": "code",
   "execution_count": 30,
   "id": "d4659678",
   "metadata": {},
   "outputs": [
    {
     "name": "stdout",
     "output_type": "stream",
     "text": [
      "Finish simulation round 1!\n",
      "Finish simulation round 2!\n",
      "Finish simulation round 3!\n",
      "Finish simulation round 4!\n",
      "Finish simulation round 5!\n",
      "Finish simulation round 6!\n",
      "Finish simulation round 7!\n",
      "Finish simulation round 8!\n",
      "Finish simulation round 9!\n",
      "Finish simulation round 10!\n"
     ]
    }
   ],
   "source": [
    "costramdom_unob, costramdom_exp = proactive_learning(seed_pool, data2, simulation_round, RF, choose_randomly, 5)"
   ]
  },
  {
   "cell_type": "markdown",
   "id": "4b937bc9",
   "metadata": {},
   "source": [
    "# Error of Unobserved Data by Expenditure"
   ]
  },
  {
   "cell_type": "code",
   "execution_count": 31,
   "id": "53c47b58",
   "metadata": {},
   "outputs": [],
   "source": [
    "def get_acc_by_expenditrue_matrix(acc, expenditure):\n",
    "    expansion = np.zeros((simulation_round, 50+1))\n",
    "    for i in range(simulation_round):\n",
    "        previous = 0\n",
    "        for j in range(len(expenditure[i])):\n",
    "            populate_to_this = int(expenditure[i][j]//10)\n",
    "            if previous == 0:\n",
    "                expansion[i, previous:populate_to_this] = 0\n",
    "            else:\n",
    "                expansion[i, previous:populate_to_this] = acc[i][j-1]\n",
    "            previous = populate_to_this\n",
    "        last = int(expenditure[i][-1]//10)\n",
    "        expansion[i, last:] = acc[i][j]  \n",
    "    return expansion"
   ]
  },
  {
   "cell_type": "code",
   "execution_count": 32,
   "id": "9a46dbdb",
   "metadata": {},
   "outputs": [],
   "source": [
    "utility_acc_by_exp = get_acc_by_expenditrue_matrix(utility_unob, utility_exp)\n",
    "cost_acc_by_exp = get_acc_by_expenditrue_matrix(cost_unob, cost_exp)\n",
    "costramdom_acc_by_exp = get_acc_by_expenditrue_matrix(costramdom_unob, costramdom_exp)"
   ]
  },
  {
   "cell_type": "code",
   "execution_count": 33,
   "id": "a23089cb",
   "metadata": {},
   "outputs": [],
   "source": [
    "utility_acc_by_exp_mean = np.mean(utility_acc_by_exp, axis = 0)\n",
    "utility_acc_by_exp_std = np.std(utility_acc_by_exp, axis = 0)\n",
    "cost_acc_by_exp_mean = np.mean(cost_acc_by_exp, axis = 0)\n",
    "cost_acc_by_exp_std = np.std(cost_acc_by_exp, axis = 0)\n",
    "costramdom_acc_by_exp_mean = np.mean(costramdom_acc_by_exp, axis = 0)\n",
    "costramdom_acc_by_exp_std = np.std(costramdom_acc_by_exp, axis = 0)"
   ]
  },
  {
   "cell_type": "code",
   "execution_count": 34,
   "id": "599b1683",
   "metadata": {},
   "outputs": [
    {
     "data": {
      "image/png": "[encoded data removed]",
      "text/plain": [
       "<Figure size 1200x800 with 1 Axes>"
      ]
     },
     "metadata": {
      "needs_background": "light"
     },
     "output_type": "display_data"
    }
   ],
   "source": [
    "round_idx = np.array([i for i in range(0, 510, 10)])\n",
    "plt.figure(figsize=(12, 8), dpi=100)\n",
    "\n",
    "plt.errorbar(round_idx, utility_acc_by_exp_mean, utility_acc_by_exp_std, linestyle='-', marker= None,color = 'red', label = 'Utility-based sampling')\n",
    "plt.errorbar(round_idx, cost_acc_by_exp_mean, cost_acc_by_exp_std, linestyle='-', marker=None,color = 'orange', label = 'Cheapest-instance sampling')\n",
    "plt.errorbar(round_idx, costramdom_acc_by_exp_mean, costramdom_acc_by_exp_std, linestyle='-', marker=None,color = 'black', label = 'Random sampling')\n",
    "plt.title('Accuracy on unobserved data')\n",
    "plt.xlabel('Expenditures')\n",
    "plt.ylabel('Mean and std of accuracy')\n",
    "plt.legend()\n",
    "plt.show()"
   ]
  },
  {
   "cell_type": "markdown",
   "id": "e91c9b27",
   "metadata": {},
   "source": [
    "# Part 3"
   ]
  },
  {
   "cell_type": "code",
   "execution_count": 61,
   "id": "adfee274",
   "metadata": {},
   "outputs": [],
   "source": [
    "# When Cost-sensitive sampling is worse than random sampling"
   ]
  },
  {
   "cell_type": "code",
   "execution_count": 35,
   "id": "a73ecd55",
   "metadata": {},
   "outputs": [
    {
     "data": {
      "text/html": [
       "<div>\n",
       "<style scoped>\n",
       "    .dataframe tbody tr th:only-of-type {\n",
       "        vertical-align: middle;\n",
       "    }\n",
       "\n",
       "    .dataframe tbody tr th {\n",
       "        vertical-align: top;\n",
       "    }\n",
       "\n",
       "    .dataframe thead th {\n",
       "        text-align: right;\n",
       "    }\n",
       "</style>\n",
       "<table border=\"1\" class=\"dataframe\">\n",
       "  <thead>\n",
       "    <tr style=\"text-align: right;\">\n",
       "      <th></th>\n",
       "      <th>x1</th>\n",
       "      <th>x2</th>\n",
       "      <th>y</th>\n",
       "      <th>cost</th>\n",
       "      <th>Unnamed: 4</th>\n",
       "    </tr>\n",
       "  </thead>\n",
       "  <tbody>\n",
       "    <tr>\n",
       "      <th>0</th>\n",
       "      <td>0.730371</td>\n",
       "      <td>0.151333</td>\n",
       "      <td>0</td>\n",
       "      <td>2.828427</td>\n",
       "      <td>2.828427</td>\n",
       "    </tr>\n",
       "    <tr>\n",
       "      <th>1</th>\n",
       "      <td>0.800499</td>\n",
       "      <td>0.111498</td>\n",
       "      <td>2</td>\n",
       "      <td>2.828427</td>\n",
       "      <td>5.656854</td>\n",
       "    </tr>\n",
       "    <tr>\n",
       "      <th>2</th>\n",
       "      <td>0.699113</td>\n",
       "      <td>0.417090</td>\n",
       "      <td>1</td>\n",
       "      <td>2.828427</td>\n",
       "      <td>8.485281</td>\n",
       "    </tr>\n",
       "    <tr>\n",
       "      <th>3</th>\n",
       "      <td>0.776930</td>\n",
       "      <td>0.190549</td>\n",
       "      <td>2</td>\n",
       "      <td>2.828427</td>\n",
       "      <td>11.313709</td>\n",
       "    </tr>\n",
       "    <tr>\n",
       "      <th>4</th>\n",
       "      <td>0.926691</td>\n",
       "      <td>0.323239</td>\n",
       "      <td>2</td>\n",
       "      <td>2.828427</td>\n",
       "      <td>14.142136</td>\n",
       "    </tr>\n",
       "  </tbody>\n",
       "</table>\n",
       "</div>"
      ],
      "text/plain": [
       "         x1        x2  y      cost  Unnamed: 4\n",
       "0  0.730371  0.151333  0  2.828427    2.828427\n",
       "1  0.800499  0.111498  2  2.828427    5.656854\n",
       "2  0.699113  0.417090  1  2.828427    8.485281\n",
       "3  0.776930  0.190549  2  2.828427   11.313709\n",
       "4  0.926691  0.323239  2  2.828427   14.142136"
      ]
     },
     "execution_count": 35,
     "metadata": {},
     "output_type": "execute_result"
    }
   ],
   "source": [
    "data3 = pd.read_csv('classification2.csv')\n",
    "data3.head()"
   ]
  },
  {
   "cell_type": "code",
   "execution_count": 73,
   "id": "0391dd3e",
   "metadata": {},
   "outputs": [],
   "source": [
    "m_data3 = data3.drop(columns = ['Unnamed: 4'])\n",
    "unclustered_data3 = m_data3.loc[:, ['x1', 'x2', 'y']]\n",
    "cost_col = m_data3.loc[:, ['cost']]"
   ]
  },
  {
   "cell_type": "code",
   "execution_count": 74,
   "id": "8d464a80",
   "metadata": {},
   "outputs": [
    {
     "data": {
      "text/html": [
       "<div>\n",
       "<style scoped>\n",
       "    .dataframe tbody tr th:only-of-type {\n",
       "        vertical-align: middle;\n",
       "    }\n",
       "\n",
       "    .dataframe tbody tr th {\n",
       "        vertical-align: top;\n",
       "    }\n",
       "\n",
       "    .dataframe thead th {\n",
       "        text-align: right;\n",
       "    }\n",
       "</style>\n",
       "<table border=\"1\" class=\"dataframe\">\n",
       "  <thead>\n",
       "    <tr style=\"text-align: right;\">\n",
       "      <th></th>\n",
       "      <th>x1</th>\n",
       "      <th>x2</th>\n",
       "      <th>y</th>\n",
       "    </tr>\n",
       "  </thead>\n",
       "  <tbody>\n",
       "    <tr>\n",
       "      <th>0</th>\n",
       "      <td>0.730371</td>\n",
       "      <td>0.151333</td>\n",
       "      <td>0</td>\n",
       "    </tr>\n",
       "    <tr>\n",
       "      <th>1</th>\n",
       "      <td>0.800499</td>\n",
       "      <td>0.111498</td>\n",
       "      <td>2</td>\n",
       "    </tr>\n",
       "    <tr>\n",
       "      <th>2</th>\n",
       "      <td>0.699113</td>\n",
       "      <td>0.417090</td>\n",
       "      <td>1</td>\n",
       "    </tr>\n",
       "    <tr>\n",
       "      <th>3</th>\n",
       "      <td>0.776930</td>\n",
       "      <td>0.190549</td>\n",
       "      <td>2</td>\n",
       "    </tr>\n",
       "    <tr>\n",
       "      <th>4</th>\n",
       "      <td>0.926691</td>\n",
       "      <td>0.323239</td>\n",
       "      <td>2</td>\n",
       "    </tr>\n",
       "  </tbody>\n",
       "</table>\n",
       "</div>"
      ],
      "text/plain": [
       "         x1        x2  y\n",
       "0  0.730371  0.151333  0\n",
       "1  0.800499  0.111498  2\n",
       "2  0.699113  0.417090  1\n",
       "3  0.776930  0.190549  2\n",
       "4  0.926691  0.323239  2"
      ]
     },
     "execution_count": 74,
     "metadata": {},
     "output_type": "execute_result"
    }
   ],
   "source": [
    "unclustered_data3.head()"
   ]
  },
  {
   "cell_type": "code",
   "execution_count": 75,
   "id": "7fa3d7e1",
   "metadata": {},
   "outputs": [
    {
     "data": {
      "text/html": [
       "<div>\n",
       "<style scoped>\n",
       "    .dataframe tbody tr th:only-of-type {\n",
       "        vertical-align: middle;\n",
       "    }\n",
       "\n",
       "    .dataframe tbody tr th {\n",
       "        vertical-align: top;\n",
       "    }\n",
       "\n",
       "    .dataframe thead th {\n",
       "        text-align: right;\n",
       "    }\n",
       "</style>\n",
       "<table border=\"1\" class=\"dataframe\">\n",
       "  <thead>\n",
       "    <tr style=\"text-align: right;\">\n",
       "      <th></th>\n",
       "      <th>cost</th>\n",
       "    </tr>\n",
       "  </thead>\n",
       "  <tbody>\n",
       "    <tr>\n",
       "      <th>0</th>\n",
       "      <td>2.828427</td>\n",
       "    </tr>\n",
       "    <tr>\n",
       "      <th>1</th>\n",
       "      <td>2.828427</td>\n",
       "    </tr>\n",
       "    <tr>\n",
       "      <th>2</th>\n",
       "      <td>2.828427</td>\n",
       "    </tr>\n",
       "    <tr>\n",
       "      <th>3</th>\n",
       "      <td>2.828427</td>\n",
       "    </tr>\n",
       "    <tr>\n",
       "      <th>4</th>\n",
       "      <td>2.828427</td>\n",
       "    </tr>\n",
       "  </tbody>\n",
       "</table>\n",
       "</div>"
      ],
      "text/plain": [
       "       cost\n",
       "0  2.828427\n",
       "1  2.828427\n",
       "2  2.828427\n",
       "3  2.828427\n",
       "4  2.828427"
      ]
     },
     "execution_count": 75,
     "metadata": {},
     "output_type": "execute_result"
    }
   ],
   "source": [
    "cost_col.head()"
   ]
  },
  {
   "cell_type": "code",
   "execution_count": 76,
   "id": "0845c164",
   "metadata": {},
   "outputs": [
    {
     "data": {
      "text/html": [
       "<div>\n",
       "<style scoped>\n",
       "    .dataframe tbody tr th:only-of-type {\n",
       "        vertical-align: middle;\n",
       "    }\n",
       "\n",
       "    .dataframe tbody tr th {\n",
       "        vertical-align: top;\n",
       "    }\n",
       "\n",
       "    .dataframe thead th {\n",
       "        text-align: right;\n",
       "    }\n",
       "</style>\n",
       "<table border=\"1\" class=\"dataframe\">\n",
       "  <thead>\n",
       "    <tr style=\"text-align: right;\">\n",
       "      <th></th>\n",
       "      <th>x1</th>\n",
       "      <th>x2</th>\n",
       "      <th>y</th>\n",
       "    </tr>\n",
       "  </thead>\n",
       "  <tbody>\n",
       "    <tr>\n",
       "      <th>0</th>\n",
       "      <td>0.730371</td>\n",
       "      <td>0.151333</td>\n",
       "      <td>0</td>\n",
       "    </tr>\n",
       "    <tr>\n",
       "      <th>1</th>\n",
       "      <td>0.494735</td>\n",
       "      <td>0.547294</td>\n",
       "      <td>0</td>\n",
       "    </tr>\n",
       "    <tr>\n",
       "      <th>2</th>\n",
       "      <td>0.480415</td>\n",
       "      <td>0.508714</td>\n",
       "      <td>0</td>\n",
       "    </tr>\n",
       "    <tr>\n",
       "      <th>3</th>\n",
       "      <td>0.442726</td>\n",
       "      <td>0.519136</td>\n",
       "      <td>0</td>\n",
       "    </tr>\n",
       "    <tr>\n",
       "      <th>4</th>\n",
       "      <td>0.456700</td>\n",
       "      <td>0.512188</td>\n",
       "      <td>0</td>\n",
       "    </tr>\n",
       "    <tr>\n",
       "      <th>...</th>\n",
       "      <td>...</td>\n",
       "      <td>...</td>\n",
       "      <td>...</td>\n",
       "    </tr>\n",
       "    <tr>\n",
       "      <th>195</th>\n",
       "      <td>0.771287</td>\n",
       "      <td>0.524553</td>\n",
       "      <td>2</td>\n",
       "    </tr>\n",
       "    <tr>\n",
       "      <th>196</th>\n",
       "      <td>0.894097</td>\n",
       "      <td>0.970624</td>\n",
       "      <td>2</td>\n",
       "    </tr>\n",
       "    <tr>\n",
       "      <th>197</th>\n",
       "      <td>0.956134</td>\n",
       "      <td>0.641600</td>\n",
       "      <td>2</td>\n",
       "    </tr>\n",
       "    <tr>\n",
       "      <th>198</th>\n",
       "      <td>0.143497</td>\n",
       "      <td>0.665590</td>\n",
       "      <td>2</td>\n",
       "    </tr>\n",
       "    <tr>\n",
       "      <th>199</th>\n",
       "      <td>0.828219</td>\n",
       "      <td>0.512475</td>\n",
       "      <td>2</td>\n",
       "    </tr>\n",
       "  </tbody>\n",
       "</table>\n",
       "<p>200 rows × 3 columns</p>\n",
       "</div>"
      ],
      "text/plain": [
       "           x1        x2  y\n",
       "0    0.730371  0.151333  0\n",
       "1    0.494735  0.547294  0\n",
       "2    0.480415  0.508714  0\n",
       "3    0.442726  0.519136  0\n",
       "4    0.456700  0.512188  0\n",
       "..        ...       ... ..\n",
       "195  0.771287  0.524553  2\n",
       "196  0.894097  0.970624  2\n",
       "197  0.956134  0.641600  2\n",
       "198  0.143497  0.665590  2\n",
       "199  0.828219  0.512475  2\n",
       "\n",
       "[200 rows x 3 columns]"
      ]
     },
     "execution_count": 76,
     "metadata": {},
     "output_type": "execute_result"
    }
   ],
   "source": [
    "clustered_data3 = unclustered_data3.sort_values(by=['y'], ignore_index = True)\n",
    "clustered_data3"
   ]
  },
  {
   "cell_type": "code",
   "execution_count": 77,
   "id": "66e96197",
   "metadata": {},
   "outputs": [
    {
     "data": {
      "text/html": [
       "<div>\n",
       "<style scoped>\n",
       "    .dataframe tbody tr th:only-of-type {\n",
       "        vertical-align: middle;\n",
       "    }\n",
       "\n",
       "    .dataframe tbody tr th {\n",
       "        vertical-align: top;\n",
       "    }\n",
       "\n",
       "    .dataframe thead th {\n",
       "        text-align: right;\n",
       "    }\n",
       "</style>\n",
       "<table border=\"1\" class=\"dataframe\">\n",
       "  <thead>\n",
       "    <tr style=\"text-align: right;\">\n",
       "      <th></th>\n",
       "      <th>x1</th>\n",
       "      <th>x2</th>\n",
       "      <th>y</th>\n",
       "      <th>cost</th>\n",
       "    </tr>\n",
       "  </thead>\n",
       "  <tbody>\n",
       "    <tr>\n",
       "      <th>0</th>\n",
       "      <td>0.730371</td>\n",
       "      <td>0.151333</td>\n",
       "      <td>0</td>\n",
       "      <td>2.828427</td>\n",
       "    </tr>\n",
       "    <tr>\n",
       "      <th>1</th>\n",
       "      <td>0.494735</td>\n",
       "      <td>0.547294</td>\n",
       "      <td>0</td>\n",
       "      <td>2.828427</td>\n",
       "    </tr>\n",
       "    <tr>\n",
       "      <th>2</th>\n",
       "      <td>0.480415</td>\n",
       "      <td>0.508714</td>\n",
       "      <td>0</td>\n",
       "      <td>2.828427</td>\n",
       "    </tr>\n",
       "    <tr>\n",
       "      <th>3</th>\n",
       "      <td>0.442726</td>\n",
       "      <td>0.519136</td>\n",
       "      <td>0</td>\n",
       "      <td>2.828427</td>\n",
       "    </tr>\n",
       "    <tr>\n",
       "      <th>4</th>\n",
       "      <td>0.456700</td>\n",
       "      <td>0.512188</td>\n",
       "      <td>0</td>\n",
       "      <td>2.828427</td>\n",
       "    </tr>\n",
       "  </tbody>\n",
       "</table>\n",
       "</div>"
      ],
      "text/plain": [
       "         x1        x2  y      cost\n",
       "0  0.730371  0.151333  0  2.828427\n",
       "1  0.494735  0.547294  0  2.828427\n",
       "2  0.480415  0.508714  0  2.828427\n",
       "3  0.442726  0.519136  0  2.828427\n",
       "4  0.456700  0.512188  0  2.828427"
      ]
     },
     "execution_count": 77,
     "metadata": {},
     "output_type": "execute_result"
    }
   ],
   "source": [
    "clustered_with_cost = pd.concat([clustered_data3, cost_col], axis = 1)\n",
    "clustered_with_cost.head()"
   ]
  },
  {
   "cell_type": "code",
   "execution_count": 78,
   "id": "998d35cf",
   "metadata": {},
   "outputs": [],
   "source": [
    "clustered_with_cost = clustered_with_cost.values"
   ]
  },
  {
   "cell_type": "code",
   "execution_count": 79,
   "id": "5bc948b4",
   "metadata": {},
   "outputs": [],
   "source": [
    "np.random.seed(52)\n",
    "seed_pool2 = np.random.choice(10000, simulation_round)"
   ]
  },
  {
   "cell_type": "code",
   "execution_count": 50,
   "id": "f0fe1c7d",
   "metadata": {},
   "outputs": [
    {
     "name": "stdout",
     "output_type": "stream",
     "text": [
      "Finish simulation round 1!\n",
      "Finish simulation round 2!\n",
      "Finish simulation round 3!\n",
      "Finish simulation round 4!\n",
      "Finish simulation round 5!\n",
      "Finish simulation round 6!\n",
      "Finish simulation round 7!\n",
      "Finish simulation round 8!\n",
      "Finish simulation round 9!\n",
      "Finish simulation round 10!\n"
     ]
    }
   ],
   "source": [
    "utility_unob_2, utility_exp_2, output_utility = proactive_learning(seed_pool2, clustered_with_cost, simulation_round, RF, choose_by_utility, 5, output_ob = True)"
   ]
  },
  {
   "cell_type": "code",
   "execution_count": 51,
   "id": "b6833652",
   "metadata": {},
   "outputs": [
    {
     "name": "stdout",
     "output_type": "stream",
     "text": [
      "Finish simulation round 1!\n",
      "Finish simulation round 2!\n",
      "Finish simulation round 3!\n",
      "Finish simulation round 4!\n",
      "Finish simulation round 5!\n",
      "Finish simulation round 6!\n",
      "Finish simulation round 7!\n",
      "Finish simulation round 8!\n",
      "Finish simulation round 9!\n",
      "Finish simulation round 10!\n"
     ]
    }
   ],
   "source": [
    "costrandom_unob_2, costrandom_exp_2, output_costrandom = proactive_learning(seed_pool2, clustered_with_cost, simulation_round, RF, choose_randomly, 5, output_ob = True)"
   ]
  },
  {
   "cell_type": "code",
   "execution_count": 55,
   "id": "7aa82b41",
   "metadata": {},
   "outputs": [
    {
     "name": "stdout",
     "output_type": "stream",
     "text": [
      "Finish simulation round 1!\n",
      "Finish simulation round 2!\n",
      "Finish simulation round 3!\n",
      "Finish simulation round 4!\n",
      "Finish simulation round 5!\n",
      "Finish simulation round 6!\n",
      "Finish simulation round 7!\n",
      "Finish simulation round 8!\n",
      "Finish simulation round 9!\n",
      "Finish simulation round 10!\n"
     ]
    }
   ],
   "source": [
    "cost_unob_2, cost_exp_2, output_cost = proactive_learning(seed_pool2, clustered_with_cost, simulation_round, RF, choose_by_cheapest, 5, output_ob = True)"
   ]
  },
  {
   "cell_type": "code",
   "execution_count": 56,
   "id": "d9cb7b12",
   "metadata": {},
   "outputs": [],
   "source": [
    "utility_2_acc_by_exp = get_acc_by_expenditrue_matrix(utility_unob_2, utility_exp_2)\n",
    "cost_2_acc_by_exp = get_acc_by_expenditrue_matrix(cost_unob_2, cost_exp_2)\n",
    "costrandom_2_acc_by_exp = get_acc_by_expenditrue_matrix(costrandom_unob_2, costrandom_exp_2)\n",
    "utility_2_acc_by_exp_mean = np.mean(utility_2_acc_by_exp, axis = 0)\n",
    "utility_2_acc_by_exp_std = np.std(utility_2_acc_by_exp, axis = 0)\n",
    "cost_2_acc_by_exp_mean = np.mean(cost_2_acc_by_exp, axis = 0)\n",
    "cost_2_acc_by_exp_std = np.std(cost_2_acc_by_exp, axis = 0)\n",
    "costrandom_2_acc_by_exp_mean = np.mean(costrandom_2_acc_by_exp, axis = 0)\n",
    "costrandom_2_acc_by_exp_std = np.std(costrandom_2_acc_by_exp, axis = 0)"
   ]
  },
  {
   "cell_type": "code",
   "execution_count": 57,
   "id": "7d80b49e",
   "metadata": {
    "scrolled": true
   },
   "outputs": [
    {
     "data": {
      "image/png": "[encoded data removed]",
      "text/plain": [
       "<Figure size 1200x800 with 1 Axes>"
      ]
     },
     "metadata": {
      "needs_background": "light"
     },
     "output_type": "display_data"
    }
   ],
   "source": [
    "round_idx = np.array([i for i in range(0, 510, 10)])\n",
    "plt.figure(figsize=(12, 8), dpi=100)\n",
    "\n",
    "plt.errorbar(round_idx, utility_2_acc_by_exp_mean, utility_2_acc_by_exp_std, linestyle='-', marker= None,color = 'red', label = 'Utility-based sampling')\n",
    "plt.errorbar(round_idx, cost_2_acc_by_exp_mean, cost_2_acc_by_exp_std, linestyle='-', marker=None,color = 'orange', label = 'Cheapest-instance sampling')\n",
    "plt.errorbar(round_idx, costrandom_2_acc_by_exp_mean, costrandom_2_acc_by_exp_std, linestyle='-', marker=None,color = 'black', label = 'Random sampling')\n",
    "plt.title('Accuracy on unobserved data')\n",
    "plt.xlabel('Expenditures')\n",
    "plt.ylabel('Mean and std of accuracy')\n",
    "plt.legend()\n",
    "plt.show()"
   ]
  },
  {
   "cell_type": "code",
   "execution_count": 60,
   "id": "dabde5d5",
   "metadata": {},
   "outputs": [],
   "source": [
    "#When Cost-sensitive sampling is better than random sampling"
   ]
  },
  {
   "cell_type": "code",
   "execution_count": 70,
   "id": "dbb0cd03",
   "metadata": {},
   "outputs": [],
   "source": [
    "data4 = data3.drop(columns = ['cost', 'Unnamed: 4'])"
   ]
  },
  {
   "cell_type": "code",
   "execution_count": 71,
   "id": "43cca54f",
   "metadata": {},
   "outputs": [],
   "source": [
    "data4 = data4.values"
   ]
  },
  {
   "cell_type": "code",
   "execution_count": 72,
   "id": "dcc982ee",
   "metadata": {},
   "outputs": [
    {
     "name": "stdout",
     "output_type": "stream",
     "text": [
      "Finish simulation round 1!\n",
      "Finish simulation round 2!\n",
      "Finish simulation round 3!\n",
      "Finish simulation round 4!\n",
      "Finish simulation round 5!\n",
      "Finish simulation round 6!\n",
      "Finish simulation round 7!\n",
      "Finish simulation round 8!\n",
      "Finish simulation round 9!\n",
      "Finish simulation round 10!\n"
     ]
    }
   ],
   "source": [
    "_, useful_points = aggresive_unob(seed_pool2, data4, simulation_round, 100, RF, shoose_by_uncertainty, 5, 1, output_ob = True)"
   ]
  },
  {
   "cell_type": "code",
   "execution_count": 80,
   "id": "9768cebc",
   "metadata": {},
   "outputs": [],
   "source": [
    "freq = useful_points[0]\n",
    "for r in range(1, len(useful_points)):\n",
    "    freq = np.concatenate((freq, useful_points[r]), axis = 0)  \n",
    "bb=list([tuple(t) for t in freq])\n",
    "aa1= dict((aaa, bb.count(aaa)) for aaa in bb)\n",
    "key=aa1.keys()\n",
    "value=aa1.values()\n",
    "alist=list(zip(key,value))\n",
    "sorted_freq = sorted(alist, key=lambda x: x[1], reverse = True)\n",
    "useful_points_2 = np.array([list(i[0]) for i in sorted_freq])[0:50, :]"
   ]
  },
  {
   "cell_type": "code",
   "execution_count": 81,
   "id": "65af52b7",
   "metadata": {},
   "outputs": [],
   "source": [
    "def find_index(arr, row):\n",
    "    return np.where(np.all(arr==row,axis=1))[0].item()"
   ]
  },
  {
   "cell_type": "code",
   "execution_count": 82,
   "id": "93833b78",
   "metadata": {},
   "outputs": [],
   "source": [
    "useful_idx = []\n",
    "for each in useful_points_2:\n",
    "    idx = find_index(data4, each)\n",
    "    useful_idx.append(idx)"
   ]
  },
  {
   "cell_type": "code",
   "execution_count": 83,
   "id": "5cc27bd8",
   "metadata": {},
   "outputs": [
    {
     "data": {
      "text/plain": [
       "(150, 3)"
      ]
     },
     "execution_count": 83,
     "metadata": {},
     "output_type": "execute_result"
    }
   ],
   "source": [
    "mask = np.full(len(data4), True)\n",
    "mask[useful_idx] = False\n",
    "useless_points_2 = data4[mask]\n",
    "useless_points_2.shape"
   ]
  },
  {
   "cell_type": "code",
   "execution_count": 84,
   "id": "50dba2ff",
   "metadata": {},
   "outputs": [],
   "source": [
    "sorted1_data3 = np.concatenate((useful_points_2, useless_points_2), axis = 0)\n",
    "cost_col = data3.loc[:,'cost'].values.reshape(-1,1)\n",
    "sorted1_data3 = np.concatenate((sorted1_data3, cost_col), axis = 1)"
   ]
  },
  {
   "cell_type": "code",
   "execution_count": 85,
   "id": "118dc8d5",
   "metadata": {},
   "outputs": [
    {
     "name": "stdout",
     "output_type": "stream",
     "text": [
      "Finish simulation round 1!\n",
      "Finish simulation round 2!\n",
      "Finish simulation round 3!\n",
      "Finish simulation round 4!\n",
      "Finish simulation round 5!\n",
      "Finish simulation round 6!\n",
      "Finish simulation round 7!\n",
      "Finish simulation round 8!\n",
      "Finish simulation round 9!\n",
      "Finish simulation round 10!\n"
     ]
    }
   ],
   "source": [
    "utility_unob_2, utility_exp_2, output_utility = proactive_learning(seed_pool2, sorted1_data3, simulation_round, RF, choose_by_utility, 5, output_ob = True)"
   ]
  },
  {
   "cell_type": "code",
   "execution_count": 86,
   "id": "455c0c98",
   "metadata": {},
   "outputs": [
    {
     "name": "stdout",
     "output_type": "stream",
     "text": [
      "Finish simulation round 1!\n",
      "Finish simulation round 2!\n",
      "Finish simulation round 3!\n",
      "Finish simulation round 4!\n",
      "Finish simulation round 5!\n",
      "Finish simulation round 6!\n",
      "Finish simulation round 7!\n",
      "Finish simulation round 8!\n",
      "Finish simulation round 9!\n",
      "Finish simulation round 10!\n"
     ]
    }
   ],
   "source": [
    "cost_unob_2, cost_exp_2, output_cost = proactive_learning(seed_pool2, sorted1_data3, simulation_round, RF, choose_by_cheapest, 5, output_ob = True)"
   ]
  },
  {
   "cell_type": "code",
   "execution_count": 87,
   "id": "e46c9ea2",
   "metadata": {},
   "outputs": [
    {
     "name": "stdout",
     "output_type": "stream",
     "text": [
      "Finish simulation round 1!\n",
      "Finish simulation round 2!\n",
      "Finish simulation round 3!\n",
      "Finish simulation round 4!\n",
      "Finish simulation round 5!\n",
      "Finish simulation round 6!\n",
      "Finish simulation round 7!\n",
      "Finish simulation round 8!\n",
      "Finish simulation round 9!\n",
      "Finish simulation round 10!\n"
     ]
    }
   ],
   "source": [
    "costrandom_unob_2, costrandom_exp_2, output_costrandom = proactive_learning(seed_pool2, sorted1_data3, simulation_round, RF, choose_randomly, 5, output_ob = True)"
   ]
  },
  {
   "cell_type": "code",
   "execution_count": 88,
   "id": "9181b024",
   "metadata": {},
   "outputs": [],
   "source": [
    "utility_2_acc_by_exp = get_acc_by_expenditrue_matrix(utility_unob_2, utility_exp_2)\n",
    "cost_2_acc_by_exp = get_acc_by_expenditrue_matrix(cost_unob_2, cost_exp_2)\n",
    "costrandom_2_acc_by_exp = get_acc_by_expenditrue_matrix(costrandom_unob_2, costrandom_exp_2)\n",
    "utility_2_acc_by_exp_mean = np.mean(utility_2_acc_by_exp, axis = 0)\n",
    "utility_2_acc_by_exp_std = np.std(utility_2_acc_by_exp, axis = 0)\n",
    "cost_2_acc_by_exp_mean = np.mean(cost_2_acc_by_exp, axis = 0)\n",
    "cost_2_acc_by_exp_std = np.std(cost_2_acc_by_exp, axis = 0)\n",
    "costrandom_2_acc_by_exp_mean = np.mean(costrandom_2_acc_by_exp, axis = 0)\n",
    "costrandom_2_acc_by_exp_std = np.std(costrandom_2_acc_by_exp, axis = 0)"
   ]
  },
  {
   "cell_type": "code",
   "execution_count": 89,
   "id": "651e3e8a",
   "metadata": {},
   "outputs": [
    {
     "data": {
      "image/png": "[encoded data removed]",
      "text/plain": [
       "<Figure size 1200x800 with 1 Axes>"
      ]
     },
     "metadata": {
      "needs_background": "light"
     },
     "output_type": "display_data"
    }
   ],
   "source": [
    "round_idx = np.array([i for i in range(0, 510, 10)])\n",
    "plt.figure(figsize=(12, 8), dpi=100)\n",
    "\n",
    "plt.errorbar(round_idx, utility_2_acc_by_exp_mean, utility_2_acc_by_exp_std, linestyle='-', marker= None,color = 'red', label = 'Utility-based sampling')\n",
    "plt.errorbar(round_idx, cost_2_acc_by_exp_mean, cost_2_acc_by_exp_std, linestyle='-', marker=None,color = 'orange', label = 'Cheapest-instance sampling')\n",
    "plt.errorbar(round_idx, costrandom_2_acc_by_exp_mean, costrandom_2_acc_by_exp_std, linestyle='-', marker=None,color = 'black', label = 'Random sampling')\n",
    "plt.title('Accuracy on unobserved data')\n",
    "plt.xlabel('Expenditures')\n",
    "plt.ylabel('Mean and std of accuracy')\n",
    "plt.legend()\n",
    "plt.show()"
   ]
  },
  {
   "cell_type": "code",
   "execution_count": null,
   "id": "3d858980",
   "metadata": {},
   "outputs": [],
   "source": []
  }
 ],
 "metadata": {
  "kernelspec": {
   "display_name": "Python 3 (ipykernel)",
   "language": "python",
   "name": "python3"
  },
  "language_info": {
   "codemirror_mode": {
    "name": "ipython",
    "version": 3
   },
   "file_extension": ".py",
   "mimetype": "text/x-python",
   "name": "python",
   "nbconvert_exporter": "python",
   "pygments_lexer": "ipython3",
   "version": "3.9.7"
  }
 },
 "nbformat": 4,
 "nbformat_minor": 5
}
