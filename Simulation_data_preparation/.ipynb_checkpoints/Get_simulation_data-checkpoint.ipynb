{
 "cells": [
  {
   "cell_type": "code",
   "execution_count": 170,
   "id": "947eeaa6",
   "metadata": {},
   "outputs": [],
   "source": [
    "import numpy as np\n",
    "import pandas as pd\n",
    "from collections import Counter\n",
    "import itertools"
   ]
  },
  {
   "cell_type": "code",
   "execution_count": 171,
   "id": "d1061dc6",
   "metadata": {},
   "outputs": [],
   "source": [
    "np.set_printoptions(suppress=True)"
   ]
  },
  {
   "cell_type": "code",
   "execution_count": 172,
   "id": "5486a20d",
   "metadata": {},
   "outputs": [],
   "source": [
    "Griseofulvin = [128, 64, 32, 16, 8, 4, 2, 1, 0.5, 0.25, 0.125, 0]\n",
    "Camptothecin = [32, 16, 8, 4, 2, 1, 0.5, 0.25, 0.125, 0.0625, 0.03125, 0]\n",
    "Chloramphenicol = [3200, 1600, 800, 400, 200, 100, 50, 25, 12.5, 6.25, 3.125, 0]\n",
    "Metformin = [512, 256, 128, 64, 32, 16, 8, 4, 2, 1, 0.5, 0]"
   ]
  },
  {
   "cell_type": "code",
   "execution_count": 173,
   "id": "bf721362",
   "metadata": {},
   "outputs": [],
   "source": [
    "all_drugs = [Griseofulvin, Camptothecin, Chloramphenicol, Metformin]"
   ]
  },
  {
   "cell_type": "code",
   "execution_count": 174,
   "id": "36bd90be",
   "metadata": {},
   "outputs": [],
   "source": [
    "all_combinations = list(itertools.product(*all_drugs))"
   ]
  },
  {
   "cell_type": "code",
   "execution_count": 175,
   "id": "bacfbc80",
   "metadata": {},
   "outputs": [],
   "source": [
    "all_combinations = np.array(all_combinations)"
   ]
  },
  {
   "cell_type": "code",
   "execution_count": 176,
   "id": "a39e7896",
   "metadata": {},
   "outputs": [
    {
     "data": {
      "text/plain": [
       "array([[ 128.,   32., 3200.,  512.],\n",
       "       [ 128.,   32., 3200.,  256.],\n",
       "       [ 128.,   32., 3200.,  128.],\n",
       "       [ 128.,   32., 3200.,   64.],\n",
       "       [ 128.,   32., 3200.,   32.]])"
      ]
     },
     "execution_count": 176,
     "metadata": {},
     "output_type": "execute_result"
    }
   ],
   "source": [
    "all_combinations[0:5]"
   ]
  },
  {
   "cell_type": "code",
   "execution_count": 177,
   "id": "e6e5b006",
   "metadata": {},
   "outputs": [],
   "source": [
    "potency_all = []\n",
    "for c in all_combinations:\n",
    "    drug_1 = c[0]\n",
    "    drug_2 = c[1]\n",
    "    drug_3 = c[2]\n",
    "    drug_4 = c[3]\n",
    "    noise_max = (drug_1 + drug_2 + drug_3 + drug_4)/2 + 10\n",
    "    potency = 0.4 * drug_1**(1/2) + 0.1 * drug_2 + 0.4 * drug_3**(1/2) + 0.1*drug_1*drug_3 + 0.1 * drug_4 + 0.1*drug_1*drug_4+ np.random.randint(noise_max)\n",
    "    potency_all.append(potency)"
   ]
  },
  {
   "cell_type": "code",
   "execution_count": 178,
   "id": "d0ae29b4",
   "metadata": {},
   "outputs": [
    {
     "data": {
      "text/plain": [
       "20736"
      ]
     },
     "execution_count": 178,
     "metadata": {},
     "output_type": "execute_result"
    }
   ],
   "source": [
    "len(potency_all)"
   ]
  },
  {
   "cell_type": "code",
   "execution_count": 179,
   "id": "e066eb56",
   "metadata": {},
   "outputs": [],
   "source": [
    "potency_all = np.array(potency_all)"
   ]
  },
  {
   "cell_type": "code",
   "execution_count": 180,
   "id": "e41e0ab0",
   "metadata": {},
   "outputs": [],
   "source": [
    "potency_all = (potency_all-np.min(potency_all)) / (np.max(potency_all)-np.min(potency_all))"
   ]
  },
  {
   "cell_type": "code",
   "execution_count": 181,
   "id": "89693b9a",
   "metadata": {},
   "outputs": [
    {
     "data": {
      "text/plain": [
       "array([0.98861992, 0.89919977, 0.86976308, 0.86507168, 0.85006569,\n",
       "       0.85771453, 0.84746071, 0.84884625, 0.84504209, 0.84271462])"
      ]
     },
     "execution_count": 181,
     "metadata": {},
     "output_type": "execute_result"
    }
   ],
   "source": [
    "potency_all[0:10]"
   ]
  },
  {
   "cell_type": "code",
   "execution_count": 182,
   "id": "204a401f",
   "metadata": {},
   "outputs": [],
   "source": [
    "viability_all = 1 - np.round(potency_all.reshape(-1, 1),3)"
   ]
  },
  {
   "cell_type": "code",
   "execution_count": 183,
   "id": "57a71e27",
   "metadata": {},
   "outputs": [
    {
     "data": {
      "text/plain": [
       "array([[0.011],\n",
       "       [0.101],\n",
       "       [0.13 ],\n",
       "       [0.135],\n",
       "       [0.15 ],\n",
       "       [0.142],\n",
       "       [0.153],\n",
       "       [0.151],\n",
       "       [0.155],\n",
       "       [0.157]])"
      ]
     },
     "execution_count": 183,
     "metadata": {},
     "output_type": "execute_result"
    }
   ],
   "source": [
    "viability_all[0:10]"
   ]
  },
  {
   "cell_type": "code",
   "execution_count": 184,
   "id": "ce9585e3",
   "metadata": {},
   "outputs": [],
   "source": [
    "viability_all = np.round(viability_all, 3)"
   ]
  },
  {
   "cell_type": "code",
   "execution_count": 185,
   "id": "98c6727b",
   "metadata": {},
   "outputs": [],
   "source": [
    "output = np.concatenate((all_combinations, viability_all), axis = 1)"
   ]
  },
  {
   "cell_type": "code",
   "execution_count": 186,
   "id": "ffb5a459",
   "metadata": {},
   "outputs": [
    {
     "data": {
      "text/plain": [
       "(20736, 5)"
      ]
     },
     "execution_count": 186,
     "metadata": {},
     "output_type": "execute_result"
    }
   ],
   "source": [
    "output.shape"
   ]
  },
  {
   "cell_type": "code",
   "execution_count": 187,
   "id": "d93f0601",
   "metadata": {},
   "outputs": [],
   "source": [
    "DF = pd.DataFrame(output, columns = ['(+)-Griseofulvin', '(S)-(+)-Camptothecin', 'Chloramphenicol', 'Metformin', 'Cell viability'])"
   ]
  },
  {
   "cell_type": "code",
   "execution_count": 188,
   "id": "d0cec9f2",
   "metadata": {},
   "outputs": [
    {
     "data": {
      "text/html": [
       "<div>\n",
       "<style scoped>\n",
       "    .dataframe tbody tr th:only-of-type {\n",
       "        vertical-align: middle;\n",
       "    }\n",
       "\n",
       "    .dataframe tbody tr th {\n",
       "        vertical-align: top;\n",
       "    }\n",
       "\n",
       "    .dataframe thead th {\n",
       "        text-align: right;\n",
       "    }\n",
       "</style>\n",
       "<table border=\"1\" class=\"dataframe\">\n",
       "  <thead>\n",
       "    <tr style=\"text-align: right;\">\n",
       "      <th></th>\n",
       "      <th>(+)-Griseofulvin</th>\n",
       "      <th>(S)-(+)-Camptothecin</th>\n",
       "      <th>Chloramphenicol</th>\n",
       "      <th>Metformin</th>\n",
       "      <th>Cell viability</th>\n",
       "    </tr>\n",
       "  </thead>\n",
       "  <tbody>\n",
       "    <tr>\n",
       "      <th>0</th>\n",
       "      <td>128.0</td>\n",
       "      <td>32.0</td>\n",
       "      <td>3200.0</td>\n",
       "      <td>512.0</td>\n",
       "      <td>0.011</td>\n",
       "    </tr>\n",
       "    <tr>\n",
       "      <th>1</th>\n",
       "      <td>128.0</td>\n",
       "      <td>32.0</td>\n",
       "      <td>3200.0</td>\n",
       "      <td>256.0</td>\n",
       "      <td>0.101</td>\n",
       "    </tr>\n",
       "    <tr>\n",
       "      <th>2</th>\n",
       "      <td>128.0</td>\n",
       "      <td>32.0</td>\n",
       "      <td>3200.0</td>\n",
       "      <td>128.0</td>\n",
       "      <td>0.130</td>\n",
       "    </tr>\n",
       "    <tr>\n",
       "      <th>3</th>\n",
       "      <td>128.0</td>\n",
       "      <td>32.0</td>\n",
       "      <td>3200.0</td>\n",
       "      <td>64.0</td>\n",
       "      <td>0.135</td>\n",
       "    </tr>\n",
       "    <tr>\n",
       "      <th>4</th>\n",
       "      <td>128.0</td>\n",
       "      <td>32.0</td>\n",
       "      <td>3200.0</td>\n",
       "      <td>32.0</td>\n",
       "      <td>0.150</td>\n",
       "    </tr>\n",
       "  </tbody>\n",
       "</table>\n",
       "</div>"
      ],
      "text/plain": [
       "   (+)-Griseofulvin  (S)-(+)-Camptothecin  Chloramphenicol  Metformin  \\\n",
       "0             128.0                  32.0           3200.0      512.0   \n",
       "1             128.0                  32.0           3200.0      256.0   \n",
       "2             128.0                  32.0           3200.0      128.0   \n",
       "3             128.0                  32.0           3200.0       64.0   \n",
       "4             128.0                  32.0           3200.0       32.0   \n",
       "\n",
       "   Cell viability  \n",
       "0           0.011  \n",
       "1           0.101  \n",
       "2           0.130  \n",
       "3           0.135  \n",
       "4           0.150  "
      ]
     },
     "execution_count": 188,
     "metadata": {},
     "output_type": "execute_result"
    }
   ],
   "source": [
    "DF.head()"
   ]
  },
  {
   "cell_type": "code",
   "execution_count": 189,
   "id": "3cd8c6bd",
   "metadata": {},
   "outputs": [],
   "source": [
    "DF.to_csv(\"Our_drug_simulation_dataset.csv\")"
   ]
  }
 ],
 "metadata": {
  "kernelspec": {
   "display_name": "Python 3 (ipykernel)",
   "language": "python",
   "name": "python3"
  },
  "language_info": {
   "codemirror_mode": {
    "name": "ipython",
    "version": 3
   },
   "file_extension": ".py",
   "mimetype": "text/x-python",
   "name": "python",
   "nbconvert_exporter": "python",
   "pygments_lexer": "ipython3",
   "version": "3.9.7"
  }
 },
 "nbformat": 4,
 "nbformat_minor": 5
}
